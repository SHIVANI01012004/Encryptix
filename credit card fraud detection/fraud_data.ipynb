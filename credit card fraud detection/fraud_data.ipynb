{
 "cells": [
  {
   "cell_type": "code",
   "execution_count": 1,
   "id": "3c049e2f-e62c-4721-aad0-84433a0b07d2",
   "metadata": {},
   "outputs": [],
   "source": [
    "import pandas as pd\n",
    "import numpy as np\n",
    "import matplotlib.pyplot as plt\n",
    "import seaborn as sns"
   ]
  },
  {
   "cell_type": "code",
   "execution_count": 2,
   "id": "4a48eb54-c674-4b66-a68b-0de5f0426736",
   "metadata": {},
   "outputs": [],
   "source": [
    "df_test = pd.read_csv(\"fraudTest.csv\", encoding='latin1')"
   ]
  },
  {
   "cell_type": "code",
   "execution_count": 3,
   "id": "56b115b8-e420-4a9c-a92b-5a40c51dff4b",
   "metadata": {},
   "outputs": [],
   "source": [
    "df_train = pd.read_csv(\"fraudTrain.csv\", encoding='latin1')"
   ]
  },
  {
   "cell_type": "code",
   "execution_count": 4,
   "id": "04277b65-7923-434d-9b94-b84d771388a8",
   "metadata": {},
   "outputs": [
    {
     "data": {
      "text/html": [
       "<div>\n",
       "<style scoped>\n",
       "    .dataframe tbody tr th:only-of-type {\n",
       "        vertical-align: middle;\n",
       "    }\n",
       "\n",
       "    .dataframe tbody tr th {\n",
       "        vertical-align: top;\n",
       "    }\n",
       "\n",
       "    .dataframe thead th {\n",
       "        text-align: right;\n",
       "    }\n",
       "</style>\n",
       "<table border=\"1\" class=\"dataframe\">\n",
       "  <thead>\n",
       "    <tr style=\"text-align: right;\">\n",
       "      <th></th>\n",
       "      <th>Unnamed: 0</th>\n",
       "      <th>trans_date_trans_time</th>\n",
       "      <th>cc_num</th>\n",
       "      <th>merchant</th>\n",
       "      <th>category</th>\n",
       "      <th>amt</th>\n",
       "      <th>first</th>\n",
       "      <th>last</th>\n",
       "      <th>gender</th>\n",
       "      <th>street</th>\n",
       "      <th>...</th>\n",
       "      <th>lat</th>\n",
       "      <th>long</th>\n",
       "      <th>city_pop</th>\n",
       "      <th>job</th>\n",
       "      <th>dob</th>\n",
       "      <th>trans_num</th>\n",
       "      <th>unix_time</th>\n",
       "      <th>merch_lat</th>\n",
       "      <th>merch_long</th>\n",
       "      <th>is_fraud</th>\n",
       "    </tr>\n",
       "  </thead>\n",
       "  <tbody>\n",
       "    <tr>\n",
       "      <th>0</th>\n",
       "      <td>0</td>\n",
       "      <td>2020-06-21 12:14:25</td>\n",
       "      <td>2291163933867244</td>\n",
       "      <td>fraud_Kirlin and Sons</td>\n",
       "      <td>personal_care</td>\n",
       "      <td>2.86</td>\n",
       "      <td>Jeff</td>\n",
       "      <td>Elliott</td>\n",
       "      <td>M</td>\n",
       "      <td>351 Darlene Green</td>\n",
       "      <td>...</td>\n",
       "      <td>33.9659</td>\n",
       "      <td>-80.9355</td>\n",
       "      <td>333497</td>\n",
       "      <td>Mechanical engineer</td>\n",
       "      <td>1968-03-19</td>\n",
       "      <td>2da90c7d74bd46a0caf3777415b3ebd3</td>\n",
       "      <td>1371816865</td>\n",
       "      <td>33.986391</td>\n",
       "      <td>-81.200714</td>\n",
       "      <td>0</td>\n",
       "    </tr>\n",
       "    <tr>\n",
       "      <th>1</th>\n",
       "      <td>1</td>\n",
       "      <td>2020-06-21 12:14:33</td>\n",
       "      <td>3573030041201292</td>\n",
       "      <td>fraud_Sporer-Keebler</td>\n",
       "      <td>personal_care</td>\n",
       "      <td>29.84</td>\n",
       "      <td>Joanne</td>\n",
       "      <td>Williams</td>\n",
       "      <td>F</td>\n",
       "      <td>3638 Marsh Union</td>\n",
       "      <td>...</td>\n",
       "      <td>40.3207</td>\n",
       "      <td>-110.4360</td>\n",
       "      <td>302</td>\n",
       "      <td>Sales professional, IT</td>\n",
       "      <td>1990-01-17</td>\n",
       "      <td>324cc204407e99f51b0d6ca0055005e7</td>\n",
       "      <td>1371816873</td>\n",
       "      <td>39.450498</td>\n",
       "      <td>-109.960431</td>\n",
       "      <td>0</td>\n",
       "    </tr>\n",
       "  </tbody>\n",
       "</table>\n",
       "<p>2 rows × 23 columns</p>\n",
       "</div>"
      ],
      "text/plain": [
       "   Unnamed: 0 trans_date_trans_time            cc_num               merchant  \\\n",
       "0           0   2020-06-21 12:14:25  2291163933867244  fraud_Kirlin and Sons   \n",
       "1           1   2020-06-21 12:14:33  3573030041201292   fraud_Sporer-Keebler   \n",
       "\n",
       "        category    amt   first      last gender             street  ...  \\\n",
       "0  personal_care   2.86    Jeff   Elliott      M  351 Darlene Green  ...   \n",
       "1  personal_care  29.84  Joanne  Williams      F   3638 Marsh Union  ...   \n",
       "\n",
       "       lat      long  city_pop                     job         dob  \\\n",
       "0  33.9659  -80.9355    333497     Mechanical engineer  1968-03-19   \n",
       "1  40.3207 -110.4360       302  Sales professional, IT  1990-01-17   \n",
       "\n",
       "                          trans_num   unix_time  merch_lat  merch_long  \\\n",
       "0  2da90c7d74bd46a0caf3777415b3ebd3  1371816865  33.986391  -81.200714   \n",
       "1  324cc204407e99f51b0d6ca0055005e7  1371816873  39.450498 -109.960431   \n",
       "\n",
       "   is_fraud  \n",
       "0         0  \n",
       "1         0  \n",
       "\n",
       "[2 rows x 23 columns]"
      ]
     },
     "execution_count": 4,
     "metadata": {},
     "output_type": "execute_result"
    }
   ],
   "source": [
    "df_test.head(2)"
   ]
  },
  {
   "cell_type": "code",
   "execution_count": 5,
   "id": "71a89eb0-e572-4c83-a1b8-c75a719805ca",
   "metadata": {},
   "outputs": [
    {
     "data": {
      "text/html": [
       "<div>\n",
       "<style scoped>\n",
       "    .dataframe tbody tr th:only-of-type {\n",
       "        vertical-align: middle;\n",
       "    }\n",
       "\n",
       "    .dataframe tbody tr th {\n",
       "        vertical-align: top;\n",
       "    }\n",
       "\n",
       "    .dataframe thead th {\n",
       "        text-align: right;\n",
       "    }\n",
       "</style>\n",
       "<table border=\"1\" class=\"dataframe\">\n",
       "  <thead>\n",
       "    <tr style=\"text-align: right;\">\n",
       "      <th></th>\n",
       "      <th>Unnamed: 0</th>\n",
       "      <th>trans_date_trans_time</th>\n",
       "      <th>cc_num</th>\n",
       "      <th>merchant</th>\n",
       "      <th>category</th>\n",
       "      <th>amt</th>\n",
       "      <th>first</th>\n",
       "      <th>last</th>\n",
       "      <th>gender</th>\n",
       "      <th>street</th>\n",
       "      <th>...</th>\n",
       "      <th>lat</th>\n",
       "      <th>long</th>\n",
       "      <th>city_pop</th>\n",
       "      <th>job</th>\n",
       "      <th>dob</th>\n",
       "      <th>trans_num</th>\n",
       "      <th>unix_time</th>\n",
       "      <th>merch_lat</th>\n",
       "      <th>merch_long</th>\n",
       "      <th>is_fraud</th>\n",
       "    </tr>\n",
       "  </thead>\n",
       "  <tbody>\n",
       "    <tr>\n",
       "      <th>0</th>\n",
       "      <td>0</td>\n",
       "      <td>2019-01-01 00:00:18</td>\n",
       "      <td>2703186189652095</td>\n",
       "      <td>fraud_Rippin, Kub and Mann</td>\n",
       "      <td>misc_net</td>\n",
       "      <td>4.97</td>\n",
       "      <td>Jennifer</td>\n",
       "      <td>Banks</td>\n",
       "      <td>F</td>\n",
       "      <td>561 Perry Cove</td>\n",
       "      <td>...</td>\n",
       "      <td>36.0788</td>\n",
       "      <td>-81.1781</td>\n",
       "      <td>3495</td>\n",
       "      <td>Psychologist, counselling</td>\n",
       "      <td>1988-03-09</td>\n",
       "      <td>0b242abb623afc578575680df30655b9</td>\n",
       "      <td>1325376018</td>\n",
       "      <td>36.011293</td>\n",
       "      <td>-82.048315</td>\n",
       "      <td>0</td>\n",
       "    </tr>\n",
       "    <tr>\n",
       "      <th>1</th>\n",
       "      <td>1</td>\n",
       "      <td>2019-01-01 00:00:44</td>\n",
       "      <td>630423337322</td>\n",
       "      <td>fraud_Heller, Gutmann and Zieme</td>\n",
       "      <td>grocery_pos</td>\n",
       "      <td>107.23</td>\n",
       "      <td>Stephanie</td>\n",
       "      <td>Gill</td>\n",
       "      <td>F</td>\n",
       "      <td>43039 Riley Greens Suite 393</td>\n",
       "      <td>...</td>\n",
       "      <td>48.8878</td>\n",
       "      <td>-118.2105</td>\n",
       "      <td>149</td>\n",
       "      <td>Special educational needs teacher</td>\n",
       "      <td>1978-06-21</td>\n",
       "      <td>1f76529f8574734946361c461b024d99</td>\n",
       "      <td>1325376044</td>\n",
       "      <td>49.159047</td>\n",
       "      <td>-118.186462</td>\n",
       "      <td>0</td>\n",
       "    </tr>\n",
       "  </tbody>\n",
       "</table>\n",
       "<p>2 rows × 23 columns</p>\n",
       "</div>"
      ],
      "text/plain": [
       "   Unnamed: 0 trans_date_trans_time            cc_num  \\\n",
       "0           0   2019-01-01 00:00:18  2703186189652095   \n",
       "1           1   2019-01-01 00:00:44      630423337322   \n",
       "\n",
       "                          merchant     category     amt      first   last  \\\n",
       "0       fraud_Rippin, Kub and Mann     misc_net    4.97   Jennifer  Banks   \n",
       "1  fraud_Heller, Gutmann and Zieme  grocery_pos  107.23  Stephanie   Gill   \n",
       "\n",
       "  gender                        street  ...      lat      long  city_pop  \\\n",
       "0      F                561 Perry Cove  ...  36.0788  -81.1781      3495   \n",
       "1      F  43039 Riley Greens Suite 393  ...  48.8878 -118.2105       149   \n",
       "\n",
       "                                 job         dob  \\\n",
       "0          Psychologist, counselling  1988-03-09   \n",
       "1  Special educational needs teacher  1978-06-21   \n",
       "\n",
       "                          trans_num   unix_time  merch_lat  merch_long  \\\n",
       "0  0b242abb623afc578575680df30655b9  1325376018  36.011293  -82.048315   \n",
       "1  1f76529f8574734946361c461b024d99  1325376044  49.159047 -118.186462   \n",
       "\n",
       "   is_fraud  \n",
       "0         0  \n",
       "1         0  \n",
       "\n",
       "[2 rows x 23 columns]"
      ]
     },
     "execution_count": 5,
     "metadata": {},
     "output_type": "execute_result"
    }
   ],
   "source": [
    "df_train.head(2)"
   ]
  },
  {
   "cell_type": "code",
   "execution_count": 6,
   "id": "a9f87484-6c4b-47cc-9674-4119a7fb37bd",
   "metadata": {},
   "outputs": [
    {
     "data": {
      "text/plain": [
       "(1296675, 23)"
      ]
     },
     "execution_count": 6,
     "metadata": {},
     "output_type": "execute_result"
    }
   ],
   "source": [
    "df_train.shape"
   ]
  },
  {
   "cell_type": "code",
   "execution_count": 7,
   "id": "75bc3beb-3c4d-4d46-8402-9b4db470c40f",
   "metadata": {},
   "outputs": [
    {
     "data": {
      "text/plain": [
       "(555719, 23)"
      ]
     },
     "execution_count": 7,
     "metadata": {},
     "output_type": "execute_result"
    }
   ],
   "source": [
    "df_test.shape"
   ]
  },
  {
   "cell_type": "code",
   "execution_count": 8,
   "id": "6ac78952-f7e0-4295-a200-56e2bf8c163a",
   "metadata": {},
   "outputs": [
    {
     "name": "stdout",
     "output_type": "stream",
     "text": [
      "<class 'pandas.core.frame.DataFrame'>\n",
      "RangeIndex: 1296675 entries, 0 to 1296674\n",
      "Data columns (total 23 columns):\n",
      " #   Column                 Non-Null Count    Dtype  \n",
      "---  ------                 --------------    -----  \n",
      " 0   Unnamed: 0             1296675 non-null  int64  \n",
      " 1   trans_date_trans_time  1296675 non-null  object \n",
      " 2   cc_num                 1296675 non-null  int64  \n",
      " 3   merchant               1296675 non-null  object \n",
      " 4   category               1296675 non-null  object \n",
      " 5   amt                    1296675 non-null  float64\n",
      " 6   first                  1296675 non-null  object \n",
      " 7   last                   1296675 non-null  object \n",
      " 8   gender                 1296675 non-null  object \n",
      " 9   street                 1296675 non-null  object \n",
      " 10  city                   1296675 non-null  object \n",
      " 11  state                  1296675 non-null  object \n",
      " 12  zip                    1296675 non-null  int64  \n",
      " 13  lat                    1296675 non-null  float64\n",
      " 14  long                   1296675 non-null  float64\n",
      " 15  city_pop               1296675 non-null  int64  \n",
      " 16  job                    1296675 non-null  object \n",
      " 17  dob                    1296675 non-null  object \n",
      " 18  trans_num              1296675 non-null  object \n",
      " 19  unix_time              1296675 non-null  int64  \n",
      " 20  merch_lat              1296675 non-null  float64\n",
      " 21  merch_long             1296675 non-null  float64\n",
      " 22  is_fraud               1296675 non-null  int64  \n",
      "dtypes: float64(5), int64(6), object(12)\n",
      "memory usage: 227.5+ MB\n"
     ]
    }
   ],
   "source": [
    "df_train.info()"
   ]
  },
  {
   "cell_type": "code",
   "execution_count": 9,
   "id": "ca691af9-7c02-4067-a0ec-8c0047589046",
   "metadata": {},
   "outputs": [
    {
     "data": {
      "text/plain": [
       "0"
      ]
     },
     "execution_count": 9,
     "metadata": {},
     "output_type": "execute_result"
    }
   ],
   "source": [
    "df_train.duplicated().sum()"
   ]
  },
  {
   "cell_type": "code",
   "execution_count": 10,
   "id": "1d29a37b-4242-4f86-973e-66c2031dd34b",
   "metadata": {},
   "outputs": [],
   "source": [
    "data = df_train.drop(columns=['Unnamed: 0','cc_num','street','trans_num','first','last'])\n",
    "df_test = df_test.drop(columns=['Unnamed: 0','cc_num','street','trans_num','first','last'])"
   ]
  },
  {
   "cell_type": "code",
   "execution_count": 11,
   "id": "d627d6dc-2805-4836-9115-06f25aab634e",
   "metadata": {},
   "outputs": [
    {
     "data": {
      "text/html": [
       "<div>\n",
       "<style scoped>\n",
       "    .dataframe tbody tr th:only-of-type {\n",
       "        vertical-align: middle;\n",
       "    }\n",
       "\n",
       "    .dataframe tbody tr th {\n",
       "        vertical-align: top;\n",
       "    }\n",
       "\n",
       "    .dataframe thead th {\n",
       "        text-align: right;\n",
       "    }\n",
       "</style>\n",
       "<table border=\"1\" class=\"dataframe\">\n",
       "  <thead>\n",
       "    <tr style=\"text-align: right;\">\n",
       "      <th></th>\n",
       "      <th>trans_date_trans_time</th>\n",
       "      <th>merchant</th>\n",
       "      <th>category</th>\n",
       "      <th>amt</th>\n",
       "      <th>gender</th>\n",
       "      <th>city</th>\n",
       "      <th>state</th>\n",
       "      <th>zip</th>\n",
       "      <th>lat</th>\n",
       "      <th>long</th>\n",
       "      <th>city_pop</th>\n",
       "      <th>job</th>\n",
       "      <th>dob</th>\n",
       "      <th>unix_time</th>\n",
       "      <th>merch_lat</th>\n",
       "      <th>merch_long</th>\n",
       "      <th>is_fraud</th>\n",
       "    </tr>\n",
       "  </thead>\n",
       "  <tbody>\n",
       "    <tr>\n",
       "      <th>0</th>\n",
       "      <td>2019-01-01 00:00:18</td>\n",
       "      <td>fraud_Rippin, Kub and Mann</td>\n",
       "      <td>misc_net</td>\n",
       "      <td>4.97</td>\n",
       "      <td>F</td>\n",
       "      <td>Moravian Falls</td>\n",
       "      <td>NC</td>\n",
       "      <td>28654</td>\n",
       "      <td>36.0788</td>\n",
       "      <td>-81.1781</td>\n",
       "      <td>3495</td>\n",
       "      <td>Psychologist, counselling</td>\n",
       "      <td>1988-03-09</td>\n",
       "      <td>1325376018</td>\n",
       "      <td>36.011293</td>\n",
       "      <td>-82.048315</td>\n",
       "      <td>0</td>\n",
       "    </tr>\n",
       "    <tr>\n",
       "      <th>1</th>\n",
       "      <td>2019-01-01 00:00:44</td>\n",
       "      <td>fraud_Heller, Gutmann and Zieme</td>\n",
       "      <td>grocery_pos</td>\n",
       "      <td>107.23</td>\n",
       "      <td>F</td>\n",
       "      <td>Orient</td>\n",
       "      <td>WA</td>\n",
       "      <td>99160</td>\n",
       "      <td>48.8878</td>\n",
       "      <td>-118.2105</td>\n",
       "      <td>149</td>\n",
       "      <td>Special educational needs teacher</td>\n",
       "      <td>1978-06-21</td>\n",
       "      <td>1325376044</td>\n",
       "      <td>49.159047</td>\n",
       "      <td>-118.186462</td>\n",
       "      <td>0</td>\n",
       "    </tr>\n",
       "    <tr>\n",
       "      <th>2</th>\n",
       "      <td>2019-01-01 00:00:51</td>\n",
       "      <td>fraud_Lind-Buckridge</td>\n",
       "      <td>entertainment</td>\n",
       "      <td>220.11</td>\n",
       "      <td>M</td>\n",
       "      <td>Malad City</td>\n",
       "      <td>ID</td>\n",
       "      <td>83252</td>\n",
       "      <td>42.1808</td>\n",
       "      <td>-112.2620</td>\n",
       "      <td>4154</td>\n",
       "      <td>Nature conservation officer</td>\n",
       "      <td>1962-01-19</td>\n",
       "      <td>1325376051</td>\n",
       "      <td>43.150704</td>\n",
       "      <td>-112.154481</td>\n",
       "      <td>0</td>\n",
       "    </tr>\n",
       "    <tr>\n",
       "      <th>3</th>\n",
       "      <td>2019-01-01 00:01:16</td>\n",
       "      <td>fraud_Kutch, Hermiston and Farrell</td>\n",
       "      <td>gas_transport</td>\n",
       "      <td>45.00</td>\n",
       "      <td>M</td>\n",
       "      <td>Boulder</td>\n",
       "      <td>MT</td>\n",
       "      <td>59632</td>\n",
       "      <td>46.2306</td>\n",
       "      <td>-112.1138</td>\n",
       "      <td>1939</td>\n",
       "      <td>Patent attorney</td>\n",
       "      <td>1967-01-12</td>\n",
       "      <td>1325376076</td>\n",
       "      <td>47.034331</td>\n",
       "      <td>-112.561071</td>\n",
       "      <td>0</td>\n",
       "    </tr>\n",
       "    <tr>\n",
       "      <th>4</th>\n",
       "      <td>2019-01-01 00:03:06</td>\n",
       "      <td>fraud_Keeling-Crist</td>\n",
       "      <td>misc_pos</td>\n",
       "      <td>41.96</td>\n",
       "      <td>M</td>\n",
       "      <td>Doe Hill</td>\n",
       "      <td>VA</td>\n",
       "      <td>24433</td>\n",
       "      <td>38.4207</td>\n",
       "      <td>-79.4629</td>\n",
       "      <td>99</td>\n",
       "      <td>Dance movement psychotherapist</td>\n",
       "      <td>1986-03-28</td>\n",
       "      <td>1325376186</td>\n",
       "      <td>38.674999</td>\n",
       "      <td>-78.632459</td>\n",
       "      <td>0</td>\n",
       "    </tr>\n",
       "  </tbody>\n",
       "</table>\n",
       "</div>"
      ],
      "text/plain": [
       "  trans_date_trans_time                            merchant       category  \\\n",
       "0   2019-01-01 00:00:18          fraud_Rippin, Kub and Mann       misc_net   \n",
       "1   2019-01-01 00:00:44     fraud_Heller, Gutmann and Zieme    grocery_pos   \n",
       "2   2019-01-01 00:00:51                fraud_Lind-Buckridge  entertainment   \n",
       "3   2019-01-01 00:01:16  fraud_Kutch, Hermiston and Farrell  gas_transport   \n",
       "4   2019-01-01 00:03:06                 fraud_Keeling-Crist       misc_pos   \n",
       "\n",
       "      amt gender            city state    zip      lat      long  city_pop  \\\n",
       "0    4.97      F  Moravian Falls    NC  28654  36.0788  -81.1781      3495   \n",
       "1  107.23      F          Orient    WA  99160  48.8878 -118.2105       149   \n",
       "2  220.11      M      Malad City    ID  83252  42.1808 -112.2620      4154   \n",
       "3   45.00      M         Boulder    MT  59632  46.2306 -112.1138      1939   \n",
       "4   41.96      M        Doe Hill    VA  24433  38.4207  -79.4629        99   \n",
       "\n",
       "                                 job         dob   unix_time  merch_lat  \\\n",
       "0          Psychologist, counselling  1988-03-09  1325376018  36.011293   \n",
       "1  Special educational needs teacher  1978-06-21  1325376044  49.159047   \n",
       "2        Nature conservation officer  1962-01-19  1325376051  43.150704   \n",
       "3                    Patent attorney  1967-01-12  1325376076  47.034331   \n",
       "4     Dance movement psychotherapist  1986-03-28  1325376186  38.674999   \n",
       "\n",
       "   merch_long  is_fraud  \n",
       "0  -82.048315         0  \n",
       "1 -118.186462         0  \n",
       "2 -112.154481         0  \n",
       "3 -112.561071         0  \n",
       "4  -78.632459         0  "
      ]
     },
     "execution_count": 11,
     "metadata": {},
     "output_type": "execute_result"
    }
   ],
   "source": [
    "data.head()"
   ]
  },
  {
   "cell_type": "code",
   "execution_count": 12,
   "id": "de44a1c1-3759-4cc7-b51e-2508c6e3b5ab",
   "metadata": {},
   "outputs": [
    {
     "data": {
      "text/plain": [
       "69.99995681264353"
      ]
     },
     "execution_count": 12,
     "metadata": {},
     "output_type": "execute_result"
    }
   ],
   "source": [
    "# % of test and train data\n",
    "(1296675 * 100)/(555719+1296675)"
   ]
  },
  {
   "cell_type": "markdown",
   "id": "73c92191-f8db-4015-9d49-b9984aef60b9",
   "metadata": {},
   "source": [
    "__70% data is present in the train dataset and remaining 30% in the test dataset.__\r",
    "s"
   ]
  },
  {
   "cell_type": "code",
   "execution_count": 13,
   "id": "4f343a98-e222-4c71-9664-216f11d8506d",
   "metadata": {},
   "outputs": [],
   "source": [
    "# Converting dob to age\n",
    "data['dob'] = pd.to_datetime(data['dob'])\n",
    "data['age'] = (pd.to_datetime('now') - data['dob']).dt.days / 365.25\n",
    "data['age'] = data['age'].astype(int)\n",
    "data = data.drop(columns = ['dob'])"
   ]
  },
  {
   "cell_type": "code",
   "execution_count": 14,
   "id": "13462c9e-8d8f-477e-a52e-3726c0707523",
   "metadata": {},
   "outputs": [
    {
     "data": {
      "text/html": [
       "<div>\n",
       "<style scoped>\n",
       "    .dataframe tbody tr th:only-of-type {\n",
       "        vertical-align: middle;\n",
       "    }\n",
       "\n",
       "    .dataframe tbody tr th {\n",
       "        vertical-align: top;\n",
       "    }\n",
       "\n",
       "    .dataframe thead th {\n",
       "        text-align: right;\n",
       "    }\n",
       "</style>\n",
       "<table border=\"1\" class=\"dataframe\">\n",
       "  <thead>\n",
       "    <tr style=\"text-align: right;\">\n",
       "      <th></th>\n",
       "      <th>trans_date_trans_time</th>\n",
       "      <th>merchant</th>\n",
       "      <th>category</th>\n",
       "      <th>amt</th>\n",
       "      <th>gender</th>\n",
       "      <th>city</th>\n",
       "      <th>state</th>\n",
       "      <th>zip</th>\n",
       "      <th>lat</th>\n",
       "      <th>long</th>\n",
       "      <th>city_pop</th>\n",
       "      <th>job</th>\n",
       "      <th>unix_time</th>\n",
       "      <th>merch_lat</th>\n",
       "      <th>merch_long</th>\n",
       "      <th>is_fraud</th>\n",
       "      <th>age</th>\n",
       "    </tr>\n",
       "  </thead>\n",
       "  <tbody>\n",
       "    <tr>\n",
       "      <th>0</th>\n",
       "      <td>2019-01-01 00:00:18</td>\n",
       "      <td>fraud_Rippin, Kub and Mann</td>\n",
       "      <td>misc_net</td>\n",
       "      <td>4.97</td>\n",
       "      <td>F</td>\n",
       "      <td>Moravian Falls</td>\n",
       "      <td>NC</td>\n",
       "      <td>28654</td>\n",
       "      <td>36.0788</td>\n",
       "      <td>-81.1781</td>\n",
       "      <td>3495</td>\n",
       "      <td>Psychologist, counselling</td>\n",
       "      <td>1325376018</td>\n",
       "      <td>36.011293</td>\n",
       "      <td>-82.048315</td>\n",
       "      <td>0</td>\n",
       "      <td>36</td>\n",
       "    </tr>\n",
       "    <tr>\n",
       "      <th>1</th>\n",
       "      <td>2019-01-01 00:00:44</td>\n",
       "      <td>fraud_Heller, Gutmann and Zieme</td>\n",
       "      <td>grocery_pos</td>\n",
       "      <td>107.23</td>\n",
       "      <td>F</td>\n",
       "      <td>Orient</td>\n",
       "      <td>WA</td>\n",
       "      <td>99160</td>\n",
       "      <td>48.8878</td>\n",
       "      <td>-118.2105</td>\n",
       "      <td>149</td>\n",
       "      <td>Special educational needs teacher</td>\n",
       "      <td>1325376044</td>\n",
       "      <td>49.159047</td>\n",
       "      <td>-118.186462</td>\n",
       "      <td>0</td>\n",
       "      <td>46</td>\n",
       "    </tr>\n",
       "  </tbody>\n",
       "</table>\n",
       "</div>"
      ],
      "text/plain": [
       "  trans_date_trans_time                         merchant     category     amt  \\\n",
       "0   2019-01-01 00:00:18       fraud_Rippin, Kub and Mann     misc_net    4.97   \n",
       "1   2019-01-01 00:00:44  fraud_Heller, Gutmann and Zieme  grocery_pos  107.23   \n",
       "\n",
       "  gender            city state    zip      lat      long  city_pop  \\\n",
       "0      F  Moravian Falls    NC  28654  36.0788  -81.1781      3495   \n",
       "1      F          Orient    WA  99160  48.8878 -118.2105       149   \n",
       "\n",
       "                                 job   unix_time  merch_lat  merch_long  \\\n",
       "0          Psychologist, counselling  1325376018  36.011293  -82.048315   \n",
       "1  Special educational needs teacher  1325376044  49.159047 -118.186462   \n",
       "\n",
       "   is_fraud  age  \n",
       "0         0   36  \n",
       "1         0   46  "
      ]
     },
     "execution_count": 14,
     "metadata": {},
     "output_type": "execute_result"
    }
   ],
   "source": [
    "data.head(2)"
   ]
  },
  {
   "cell_type": "code",
   "execution_count": 15,
   "id": "ad7ea084-a854-4d7a-a3f4-a3acbd4d58bd",
   "metadata": {},
   "outputs": [],
   "source": [
    "df_test['dob'] = pd.to_datetime(df_test['dob'])\n",
    "df_test['age'] = (pd.to_datetime('now') - df_test['dob']).dt.days / 365.25\n",
    "df_test['age'] = df_test['age'].astype(int)\n",
    "df_test = df_test.drop(columns = ['dob'])"
   ]
  },
  {
   "cell_type": "code",
   "execution_count": 16,
   "id": "2ac77491-4005-42fa-841f-c4e572c2e5ef",
   "metadata": {},
   "outputs": [],
   "source": [
    "data['trans_date'] = pd.DatetimeIndex(data['trans_date_trans_time']).date\n",
    "data['trans_time'] = pd.DatetimeIndex(data['trans_date_trans_time']).time\n",
    "data.drop(['trans_date_trans_time'], axis=1, inplace=True)"
   ]
  },
  {
   "cell_type": "code",
   "execution_count": 17,
   "id": "7b7d6808-db57-43c2-810c-71195e295056",
   "metadata": {},
   "outputs": [
    {
     "data": {
      "text/html": [
       "<div>\n",
       "<style scoped>\n",
       "    .dataframe tbody tr th:only-of-type {\n",
       "        vertical-align: middle;\n",
       "    }\n",
       "\n",
       "    .dataframe tbody tr th {\n",
       "        vertical-align: top;\n",
       "    }\n",
       "\n",
       "    .dataframe thead th {\n",
       "        text-align: right;\n",
       "    }\n",
       "</style>\n",
       "<table border=\"1\" class=\"dataframe\">\n",
       "  <thead>\n",
       "    <tr style=\"text-align: right;\">\n",
       "      <th></th>\n",
       "      <th>merchant</th>\n",
       "      <th>category</th>\n",
       "      <th>amt</th>\n",
       "      <th>gender</th>\n",
       "      <th>city</th>\n",
       "      <th>state</th>\n",
       "      <th>zip</th>\n",
       "      <th>lat</th>\n",
       "      <th>long</th>\n",
       "      <th>city_pop</th>\n",
       "      <th>job</th>\n",
       "      <th>unix_time</th>\n",
       "      <th>merch_lat</th>\n",
       "      <th>merch_long</th>\n",
       "      <th>is_fraud</th>\n",
       "      <th>age</th>\n",
       "      <th>trans_date</th>\n",
       "      <th>trans_time</th>\n",
       "    </tr>\n",
       "  </thead>\n",
       "  <tbody>\n",
       "    <tr>\n",
       "      <th>0</th>\n",
       "      <td>fraud_Rippin, Kub and Mann</td>\n",
       "      <td>misc_net</td>\n",
       "      <td>4.97</td>\n",
       "      <td>F</td>\n",
       "      <td>Moravian Falls</td>\n",
       "      <td>NC</td>\n",
       "      <td>28654</td>\n",
       "      <td>36.0788</td>\n",
       "      <td>-81.1781</td>\n",
       "      <td>3495</td>\n",
       "      <td>Psychologist, counselling</td>\n",
       "      <td>1325376018</td>\n",
       "      <td>36.011293</td>\n",
       "      <td>-82.048315</td>\n",
       "      <td>0</td>\n",
       "      <td>36</td>\n",
       "      <td>2019-01-01</td>\n",
       "      <td>00:00:18</td>\n",
       "    </tr>\n",
       "    <tr>\n",
       "      <th>1</th>\n",
       "      <td>fraud_Heller, Gutmann and Zieme</td>\n",
       "      <td>grocery_pos</td>\n",
       "      <td>107.23</td>\n",
       "      <td>F</td>\n",
       "      <td>Orient</td>\n",
       "      <td>WA</td>\n",
       "      <td>99160</td>\n",
       "      <td>48.8878</td>\n",
       "      <td>-118.2105</td>\n",
       "      <td>149</td>\n",
       "      <td>Special educational needs teacher</td>\n",
       "      <td>1325376044</td>\n",
       "      <td>49.159047</td>\n",
       "      <td>-118.186462</td>\n",
       "      <td>0</td>\n",
       "      <td>46</td>\n",
       "      <td>2019-01-01</td>\n",
       "      <td>00:00:44</td>\n",
       "    </tr>\n",
       "    <tr>\n",
       "      <th>2</th>\n",
       "      <td>fraud_Lind-Buckridge</td>\n",
       "      <td>entertainment</td>\n",
       "      <td>220.11</td>\n",
       "      <td>M</td>\n",
       "      <td>Malad City</td>\n",
       "      <td>ID</td>\n",
       "      <td>83252</td>\n",
       "      <td>42.1808</td>\n",
       "      <td>-112.2620</td>\n",
       "      <td>4154</td>\n",
       "      <td>Nature conservation officer</td>\n",
       "      <td>1325376051</td>\n",
       "      <td>43.150704</td>\n",
       "      <td>-112.154481</td>\n",
       "      <td>0</td>\n",
       "      <td>62</td>\n",
       "      <td>2019-01-01</td>\n",
       "      <td>00:00:51</td>\n",
       "    </tr>\n",
       "    <tr>\n",
       "      <th>3</th>\n",
       "      <td>fraud_Kutch, Hermiston and Farrell</td>\n",
       "      <td>gas_transport</td>\n",
       "      <td>45.00</td>\n",
       "      <td>M</td>\n",
       "      <td>Boulder</td>\n",
       "      <td>MT</td>\n",
       "      <td>59632</td>\n",
       "      <td>46.2306</td>\n",
       "      <td>-112.1138</td>\n",
       "      <td>1939</td>\n",
       "      <td>Patent attorney</td>\n",
       "      <td>1325376076</td>\n",
       "      <td>47.034331</td>\n",
       "      <td>-112.561071</td>\n",
       "      <td>0</td>\n",
       "      <td>57</td>\n",
       "      <td>2019-01-01</td>\n",
       "      <td>00:01:16</td>\n",
       "    </tr>\n",
       "    <tr>\n",
       "      <th>4</th>\n",
       "      <td>fraud_Keeling-Crist</td>\n",
       "      <td>misc_pos</td>\n",
       "      <td>41.96</td>\n",
       "      <td>M</td>\n",
       "      <td>Doe Hill</td>\n",
       "      <td>VA</td>\n",
       "      <td>24433</td>\n",
       "      <td>38.4207</td>\n",
       "      <td>-79.4629</td>\n",
       "      <td>99</td>\n",
       "      <td>Dance movement psychotherapist</td>\n",
       "      <td>1325376186</td>\n",
       "      <td>38.674999</td>\n",
       "      <td>-78.632459</td>\n",
       "      <td>0</td>\n",
       "      <td>38</td>\n",
       "      <td>2019-01-01</td>\n",
       "      <td>00:03:06</td>\n",
       "    </tr>\n",
       "  </tbody>\n",
       "</table>\n",
       "</div>"
      ],
      "text/plain": [
       "                             merchant       category     amt gender  \\\n",
       "0          fraud_Rippin, Kub and Mann       misc_net    4.97      F   \n",
       "1     fraud_Heller, Gutmann and Zieme    grocery_pos  107.23      F   \n",
       "2                fraud_Lind-Buckridge  entertainment  220.11      M   \n",
       "3  fraud_Kutch, Hermiston and Farrell  gas_transport   45.00      M   \n",
       "4                 fraud_Keeling-Crist       misc_pos   41.96      M   \n",
       "\n",
       "             city state    zip      lat      long  city_pop  \\\n",
       "0  Moravian Falls    NC  28654  36.0788  -81.1781      3495   \n",
       "1          Orient    WA  99160  48.8878 -118.2105       149   \n",
       "2      Malad City    ID  83252  42.1808 -112.2620      4154   \n",
       "3         Boulder    MT  59632  46.2306 -112.1138      1939   \n",
       "4        Doe Hill    VA  24433  38.4207  -79.4629        99   \n",
       "\n",
       "                                 job   unix_time  merch_lat  merch_long  \\\n",
       "0          Psychologist, counselling  1325376018  36.011293  -82.048315   \n",
       "1  Special educational needs teacher  1325376044  49.159047 -118.186462   \n",
       "2        Nature conservation officer  1325376051  43.150704 -112.154481   \n",
       "3                    Patent attorney  1325376076  47.034331 -112.561071   \n",
       "4     Dance movement psychotherapist  1325376186  38.674999  -78.632459   \n",
       "\n",
       "   is_fraud  age  trans_date trans_time  \n",
       "0         0   36  2019-01-01   00:00:18  \n",
       "1         0   46  2019-01-01   00:00:44  \n",
       "2         0   62  2019-01-01   00:00:51  \n",
       "3         0   57  2019-01-01   00:01:16  \n",
       "4         0   38  2019-01-01   00:03:06  "
      ]
     },
     "execution_count": 17,
     "metadata": {},
     "output_type": "execute_result"
    }
   ],
   "source": [
    "data.head()"
   ]
  },
  {
   "cell_type": "code",
   "execution_count": 18,
   "id": "6db4bb41-54cc-4361-8ff7-deca725b05db",
   "metadata": {},
   "outputs": [],
   "source": [
    "df_test['trans_date'] = pd.DatetimeIndex(df_test['trans_date_trans_time']).date\n",
    "df_test['trans_time'] = pd.DatetimeIndex(df_test['trans_date_trans_time']).time\n",
    "df_test.drop(['trans_date_trans_time'], axis=1, inplace=True)"
   ]
  },
  {
   "cell_type": "code",
   "execution_count": 19,
   "id": "f99eec2b-10d5-479d-a999-78e5180b4c78",
   "metadata": {},
   "outputs": [
    {
     "name": "stdout",
     "output_type": "stream",
     "text": [
      "<class 'pandas.core.frame.DataFrame'>\n",
      "RangeIndex: 1296675 entries, 0 to 1296674\n",
      "Data columns (total 18 columns):\n",
      " #   Column      Non-Null Count    Dtype  \n",
      "---  ------      --------------    -----  \n",
      " 0   merchant    1296675 non-null  object \n",
      " 1   category    1296675 non-null  object \n",
      " 2   amt         1296675 non-null  float64\n",
      " 3   gender      1296675 non-null  object \n",
      " 4   city        1296675 non-null  object \n",
      " 5   state       1296675 non-null  object \n",
      " 6   zip         1296675 non-null  int64  \n",
      " 7   lat         1296675 non-null  float64\n",
      " 8   long        1296675 non-null  float64\n",
      " 9   city_pop    1296675 non-null  int64  \n",
      " 10  job         1296675 non-null  object \n",
      " 11  unix_time   1296675 non-null  int64  \n",
      " 12  merch_lat   1296675 non-null  float64\n",
      " 13  merch_long  1296675 non-null  float64\n",
      " 14  is_fraud    1296675 non-null  int64  \n",
      " 15  age         1296675 non-null  int32  \n",
      " 16  trans_date  1296675 non-null  object \n",
      " 17  trans_time  1296675 non-null  object \n",
      "dtypes: float64(5), int32(1), int64(4), object(8)\n",
      "memory usage: 173.1+ MB\n"
     ]
    }
   ],
   "source": [
    "data.info()"
   ]
  },
  {
   "cell_type": "code",
   "execution_count": 20,
   "id": "97587a59-ed32-4fa1-acaa-029c5b9afd64",
   "metadata": {},
   "outputs": [
    {
     "data": {
      "text/html": [
       "<div>\n",
       "<style scoped>\n",
       "    .dataframe tbody tr th:only-of-type {\n",
       "        vertical-align: middle;\n",
       "    }\n",
       "\n",
       "    .dataframe tbody tr th {\n",
       "        vertical-align: top;\n",
       "    }\n",
       "\n",
       "    .dataframe thead th {\n",
       "        text-align: right;\n",
       "    }\n",
       "</style>\n",
       "<table border=\"1\" class=\"dataframe\">\n",
       "  <thead>\n",
       "    <tr style=\"text-align: right;\">\n",
       "      <th></th>\n",
       "      <th>amt</th>\n",
       "      <th>zip</th>\n",
       "      <th>lat</th>\n",
       "      <th>long</th>\n",
       "      <th>city_pop</th>\n",
       "      <th>unix_time</th>\n",
       "      <th>merch_lat</th>\n",
       "      <th>merch_long</th>\n",
       "      <th>is_fraud</th>\n",
       "      <th>age</th>\n",
       "    </tr>\n",
       "  </thead>\n",
       "  <tbody>\n",
       "    <tr>\n",
       "      <th>count</th>\n",
       "      <td>1.296675e+06</td>\n",
       "      <td>1.296675e+06</td>\n",
       "      <td>1.296675e+06</td>\n",
       "      <td>1.296675e+06</td>\n",
       "      <td>1.296675e+06</td>\n",
       "      <td>1.296675e+06</td>\n",
       "      <td>1.296675e+06</td>\n",
       "      <td>1.296675e+06</td>\n",
       "      <td>1.296675e+06</td>\n",
       "      <td>1.296675e+06</td>\n",
       "    </tr>\n",
       "    <tr>\n",
       "      <th>mean</th>\n",
       "      <td>7.035104e+01</td>\n",
       "      <td>4.880067e+04</td>\n",
       "      <td>3.853762e+01</td>\n",
       "      <td>-9.022634e+01</td>\n",
       "      <td>8.882444e+04</td>\n",
       "      <td>1.349244e+09</td>\n",
       "      <td>3.853734e+01</td>\n",
       "      <td>-9.022646e+01</td>\n",
       "      <td>5.788652e-03</td>\n",
       "      <td>5.022120e+01</td>\n",
       "    </tr>\n",
       "    <tr>\n",
       "      <th>std</th>\n",
       "      <td>1.603160e+02</td>\n",
       "      <td>2.689322e+04</td>\n",
       "      <td>5.075808e+00</td>\n",
       "      <td>1.375908e+01</td>\n",
       "      <td>3.019564e+05</td>\n",
       "      <td>1.284128e+07</td>\n",
       "      <td>5.109788e+00</td>\n",
       "      <td>1.377109e+01</td>\n",
       "      <td>7.586269e-02</td>\n",
       "      <td>1.738897e+01</td>\n",
       "    </tr>\n",
       "    <tr>\n",
       "      <th>min</th>\n",
       "      <td>1.000000e+00</td>\n",
       "      <td>1.257000e+03</td>\n",
       "      <td>2.002710e+01</td>\n",
       "      <td>-1.656723e+02</td>\n",
       "      <td>2.300000e+01</td>\n",
       "      <td>1.325376e+09</td>\n",
       "      <td>1.902779e+01</td>\n",
       "      <td>-1.666712e+02</td>\n",
       "      <td>0.000000e+00</td>\n",
       "      <td>1.900000e+01</td>\n",
       "    </tr>\n",
       "    <tr>\n",
       "      <th>25%</th>\n",
       "      <td>9.650000e+00</td>\n",
       "      <td>2.623700e+04</td>\n",
       "      <td>3.462050e+01</td>\n",
       "      <td>-9.679800e+01</td>\n",
       "      <td>7.430000e+02</td>\n",
       "      <td>1.338751e+09</td>\n",
       "      <td>3.473357e+01</td>\n",
       "      <td>-9.689728e+01</td>\n",
       "      <td>0.000000e+00</td>\n",
       "      <td>3.700000e+01</td>\n",
       "    </tr>\n",
       "    <tr>\n",
       "      <th>50%</th>\n",
       "      <td>4.752000e+01</td>\n",
       "      <td>4.817400e+04</td>\n",
       "      <td>3.935430e+01</td>\n",
       "      <td>-8.747690e+01</td>\n",
       "      <td>2.456000e+03</td>\n",
       "      <td>1.349250e+09</td>\n",
       "      <td>3.936568e+01</td>\n",
       "      <td>-8.743839e+01</td>\n",
       "      <td>0.000000e+00</td>\n",
       "      <td>4.800000e+01</td>\n",
       "    </tr>\n",
       "    <tr>\n",
       "      <th>75%</th>\n",
       "      <td>8.314000e+01</td>\n",
       "      <td>7.204200e+04</td>\n",
       "      <td>4.194040e+01</td>\n",
       "      <td>-8.015800e+01</td>\n",
       "      <td>2.032800e+04</td>\n",
       "      <td>1.359385e+09</td>\n",
       "      <td>4.195716e+01</td>\n",
       "      <td>-8.023680e+01</td>\n",
       "      <td>0.000000e+00</td>\n",
       "      <td>6.100000e+01</td>\n",
       "    </tr>\n",
       "    <tr>\n",
       "      <th>max</th>\n",
       "      <td>2.894890e+04</td>\n",
       "      <td>9.978300e+04</td>\n",
       "      <td>6.669330e+01</td>\n",
       "      <td>-6.795030e+01</td>\n",
       "      <td>2.906700e+06</td>\n",
       "      <td>1.371817e+09</td>\n",
       "      <td>6.751027e+01</td>\n",
       "      <td>-6.695090e+01</td>\n",
       "      <td>1.000000e+00</td>\n",
       "      <td>9.900000e+01</td>\n",
       "    </tr>\n",
       "  </tbody>\n",
       "</table>\n",
       "</div>"
      ],
      "text/plain": [
       "                amt           zip           lat          long      city_pop  \\\n",
       "count  1.296675e+06  1.296675e+06  1.296675e+06  1.296675e+06  1.296675e+06   \n",
       "mean   7.035104e+01  4.880067e+04  3.853762e+01 -9.022634e+01  8.882444e+04   \n",
       "std    1.603160e+02  2.689322e+04  5.075808e+00  1.375908e+01  3.019564e+05   \n",
       "min    1.000000e+00  1.257000e+03  2.002710e+01 -1.656723e+02  2.300000e+01   \n",
       "25%    9.650000e+00  2.623700e+04  3.462050e+01 -9.679800e+01  7.430000e+02   \n",
       "50%    4.752000e+01  4.817400e+04  3.935430e+01 -8.747690e+01  2.456000e+03   \n",
       "75%    8.314000e+01  7.204200e+04  4.194040e+01 -8.015800e+01  2.032800e+04   \n",
       "max    2.894890e+04  9.978300e+04  6.669330e+01 -6.795030e+01  2.906700e+06   \n",
       "\n",
       "          unix_time     merch_lat    merch_long      is_fraud           age  \n",
       "count  1.296675e+06  1.296675e+06  1.296675e+06  1.296675e+06  1.296675e+06  \n",
       "mean   1.349244e+09  3.853734e+01 -9.022646e+01  5.788652e-03  5.022120e+01  \n",
       "std    1.284128e+07  5.109788e+00  1.377109e+01  7.586269e-02  1.738897e+01  \n",
       "min    1.325376e+09  1.902779e+01 -1.666712e+02  0.000000e+00  1.900000e+01  \n",
       "25%    1.338751e+09  3.473357e+01 -9.689728e+01  0.000000e+00  3.700000e+01  \n",
       "50%    1.349250e+09  3.936568e+01 -8.743839e+01  0.000000e+00  4.800000e+01  \n",
       "75%    1.359385e+09  4.195716e+01 -8.023680e+01  0.000000e+00  6.100000e+01  \n",
       "max    1.371817e+09  6.751027e+01 -6.695090e+01  1.000000e+00  9.900000e+01  "
      ]
     },
     "execution_count": 20,
     "metadata": {},
     "output_type": "execute_result"
    }
   ],
   "source": [
    "data.describe()"
   ]
  },
  {
   "cell_type": "code",
   "execution_count": 21,
   "id": "677d0710-e08a-4ea9-96c8-085491fcdd09",
   "metadata": {},
   "outputs": [
    {
     "data": {
      "image/png": "[encoded data removed]",
      "text/plain": [
       "<Figure size 640x480 with 1 Axes>"
      ]
     },
     "metadata": {},
     "output_type": "display_data"
    }
   ],
   "source": [
    "plt.pie(data['is_fraud'].value_counts(),labels = ['not_fraud','fraud'],autopct=\"%0.2f\")\n",
    "plt.show()"
   ]
  },
  {
   "cell_type": "code",
   "execution_count": 22,
   "id": "dfbfb9cf-2d98-470e-9d31-a6660a3f17ab",
   "metadata": {},
   "outputs": [
    {
     "data": {
      "image/png": "[encoded data removed]",
      "text/plain": [
       "<Figure size 640x480 with 1 Axes>"
      ]
     },
     "metadata": {},
     "output_type": "display_data"
    }
   ],
   "source": [
    "plt.pie(df_test['is_fraud'].value_counts(),labels = ['not_fraud','fraud'],autopct=\"%0.2f\")\n",
    "plt.show()"
   ]
  },
  {
   "cell_type": "markdown",
   "id": "55fc9979-ca2f-44fd-a5d6-3c393236c5b0",
   "metadata": {},
   "source": [
    "Both the datasets have high imbalnce of the target variable with the test dataset having slightly higher imbalance. At this point, lets keep the test data seperate. We will be building the model on the train dataset. "
   ]
  },
  {
   "cell_type": "code",
   "execution_count": 23,
   "id": "55599b21-1533-46a2-a402-1511d115e1e5",
   "metadata": {},
   "outputs": [
    {
     "data": {
      "image/png": "[encoded data removed]",
      "text/plain": [
       "<Figure size 640x480 with 1 Axes>"
      ]
     },
     "metadata": {},
     "output_type": "display_data"
    },
    {
     "data": {
      "image/png": "[encoded data removed]",
      "text/plain": [
       "<Figure size 640x480 with 1 Axes>"
      ]
     },
     "metadata": {},
     "output_type": "display_data"
    },
    {
     "data": {
      "image/png": "[encoded data removed]",
      "text/plain": [
       "<Figure size 640x480 with 1 Axes>"
      ]
     },
     "metadata": {},
     "output_type": "display_data"
    }
   ],
   "source": [
    "plt.boxplot(data.amt)\n",
    "plt.show()\n",
    "plt.boxplot(data.city_pop)\n",
    "plt.show()\n",
    "plt.boxplot(data.age)\n",
    "plt.show()"
   ]
  },
  {
   "cell_type": "markdown",
   "id": "82474559-a471-4670-a74a-e561675987ae",
   "metadata": {},
   "source": [
    "The age column has no outliers while amt and city_pop stastically shows outliers. However, both amount and city population can vary drastically and none of them seems very high or very low. Hence, we will consider it as valid data."
   ]
  },
  {
   "cell_type": "code",
   "execution_count": 24,
   "id": "11b33673-cf66-4d25-84d5-4aaeeb86a1d2",
   "metadata": {},
   "outputs": [
    {
     "data": {
      "image/png": "[encoded data removed]",
      "text/plain": [
       "<Figure size 700x500 with 1 Axes>"
      ]
     },
     "metadata": {},
     "output_type": "display_data"
    },
    {
     "data": {
      "image/png": "[encoded data removed]",
      "text/plain": [
       "<Figure size 700x500 with 1 Axes>"
      ]
     },
     "metadata": {},
     "output_type": "display_data"
    },
    {
     "data": {
      "image/png": "[encoded data removed]",
      "text/plain": [
       "<Figure size 1700x500 with 1 Axes>"
      ]
     },
     "metadata": {},
     "output_type": "display_data"
    }
   ],
   "source": [
    "# Lets check the transaction distribution by Category, Gender and State variables\n",
    "plt.figure(figsize = (7,5))\n",
    "plt.title('Transaction distribution by Category', fontsize= 10, color = 'Red', fontweight = 100)\n",
    "data.category.value_counts(normalize=True).plot.bar()\n",
    "plt.show()\n",
    "\n",
    "plt.figure(figsize = (7,5))\n",
    "plt.title('Transaction distribution by gender', fontsize= 10, color = 'Red', fontweight = 100)\n",
    "data.gender.value_counts(normalize=True).plot.bar()\n",
    "plt.xticks(rotation = 'horizontal')\n",
    "plt.show()\n",
    "\n",
    "plt.figure(figsize = (17,5))\n",
    "plt.title('Transaction distribution by state', fontsize= 10, color = 'Red', fontweight = 100)\n",
    "data.state.value_counts(normalize=True).plot.bar()\n",
    "plt.xticks(rotation = 'horizontal')\n",
    "plt.show()"
   ]
  },
  {
   "cell_type": "markdown",
   "id": "c461f6e6-50af-4dfb-b24e-240bccf33ab7",
   "metadata": {},
   "source": [
    "__## Check for the behaviour of various columns against the is_fraud column__"
   ]
  },
  {
   "cell_type": "code",
   "execution_count": 25,
   "id": "89c1855e-f7be-41c5-8a61-1b0b3e9a0f87",
   "metadata": {},
   "outputs": [
    {
     "data": {
      "text/plain": [
       "<matplotlib.collections.PathCollection at 0x1d22debf410>"
      ]
     },
     "execution_count": 25,
     "metadata": {},
     "output_type": "execute_result"
    },
    {
     "data": {
      "image/png": "[encoded data removed]",
      "text/plain": [
       "<Figure size 640x480 with 1 Axes>"
      ]
     },
     "metadata": {},
     "output_type": "display_data"
    }
   ],
   "source": [
    "plt.title('Fraud Vs Transaction Amount', fontsize= 10, color = 'Red')\n",
    "plt.scatter(data.amt, data.is_fraud)"
   ]
  },
  {
   "cell_type": "markdown",
   "id": "274ef5ff-b669-4d65-96bc-90bc1d7eae89",
   "metadata": {},
   "source": [
    "As can be seen from above, frauds are happening in transactions with lower amount hence indicating there is a relation in them."
   ]
  },
  {
   "cell_type": "code",
   "execution_count": 26,
   "id": "84ddb4e9-9c3b-46f0-8038-d4e39e335717",
   "metadata": {},
   "outputs": [
    {
     "data": {
      "text/plain": [
       "<Axes: title={'center': 'Distribution of Fraud Amount'}, ylabel='Count'>"
      ]
     },
     "execution_count": 26,
     "metadata": {},
     "output_type": "execute_result"
    },
    {
     "data": {
      "image/png": "[encoded data removed]",
      "text/plain": [
       "<Figure size 640x480 with 1 Axes>"
      ]
     },
     "metadata": {},
     "output_type": "display_data"
    }
   ],
   "source": [
    "plt.title('Distribution of Fraud Amount', fontsize= 10, color = 'Red')\n",
    "sns.histplot(data[data['is_fraud']==1][['amt']])"
   ]
  },
  {
   "cell_type": "code",
   "execution_count": 27,
   "id": "be4114d0-4c79-4075-b59b-b504591b2175",
   "metadata": {},
   "outputs": [
    {
     "data": {
      "text/plain": [
       "merchant\n",
       "fraud_Abbott-Rogahn                 1844\n",
       "fraud_Abbott-Steuber                1763\n",
       "fraud_Abernathy and Sons            1751\n",
       "fraud_Abshire PLC                   1895\n",
       "fraud_Adams, Kovacek and Kuhlman     940\n",
       "Name: is_fraud, dtype: int64"
      ]
     },
     "execution_count": 27,
     "metadata": {},
     "output_type": "execute_result"
    }
   ],
   "source": [
    "# Fraud transactions Vs merchant\n",
    "# Total number of transactions per merchant\n",
    "merch_tran_total = data.sort_values('merchant').groupby('merchant').count()['is_fraud']\n",
    "merch_tran_total.head()"
   ]
  },
  {
   "cell_type": "code",
   "execution_count": 28,
   "id": "2e39bb84-e2e9-4354-9e54-06c0258a5751",
   "metadata": {},
   "outputs": [
    {
     "data": {
      "text/plain": [
       "merchant\n",
       "fraud_Rau and Sons       49\n",
       "fraud_Cormier LLC        48\n",
       "fraud_Kozey-Boehm        48\n",
       "fraud_Doyle Ltd          47\n",
       "fraud_Vandervort-Funk    47\n",
       "Name: count, dtype: int64"
      ]
     },
     "execution_count": 28,
     "metadata": {},
     "output_type": "execute_result"
    }
   ],
   "source": [
    "# Total fraud transactions per merchant\n",
    "merch_tran_fraud_count = data[data.is_fraud == 1]['merchant'].value_counts()\n",
    "merch_tran_fraud_count.head()"
   ]
  },
  {
   "cell_type": "code",
   "execution_count": 29,
   "id": "5e799de1-a36c-457c-837e-c64b9f0010cf",
   "metadata": {},
   "outputs": [
    {
     "data": {
      "text/plain": [
       "merchant\n",
       "fraud_Kozey-Boehm                        2.572347\n",
       "fraud_Herman, Treutel and Dickens        2.538462\n",
       "fraud_Kerluke-Abshire                    2.230686\n",
       "fraud_Brown PLC                          2.210884\n",
       "fraud_Goyette Inc                        2.161606\n",
       "                                           ...   \n",
       "fraud_Ritchie, Bradtke and Stiedemann         NaN\n",
       "fraud_Romaguera and Sons                      NaN\n",
       "fraud_Schroeder Group                         NaN\n",
       "fraud_Schroeder, Wolff and Hermiston          NaN\n",
       "fraud_Wiegand-Lowe                            NaN\n",
       "Length: 693, dtype: float64"
      ]
     },
     "execution_count": 29,
     "metadata": {},
     "output_type": "execute_result"
    }
   ],
   "source": [
    "# Percent of fraud transactions per merchant\n",
    "fraud_perc = merch_tran_fraud_count/ merch_tran_total * 100\n",
    "fraud_perc.sort_values(ascending=False)"
   ]
  },
  {
   "cell_type": "markdown",
   "id": "25f68dbf-ade3-49f5-aa4e-70a89f6cca90",
   "metadata": {},
   "source": [
    "Baring a few merchants, most of them have equal distribution of transactions and hence this field may play important role in the model. Changing the alphabetic values to numeric as models expects numeric data.\n",
    "\n"
   ]
  },
  {
   "cell_type": "code",
   "execution_count": 30,
   "id": "eb8b6c36-2423-4bc7-b56b-c20fb9a8956f",
   "metadata": {},
   "outputs": [],
   "source": [
    "from sklearn.preprocessing import LabelEncoder"
   ]
  },
  {
   "cell_type": "code",
   "execution_count": 31,
   "id": "2e88fc53-491c-4ec3-bd1d-4d7aabd6daaf",
   "metadata": {},
   "outputs": [],
   "source": [
    "label_encoder = LabelEncoder()"
   ]
  },
  {
   "cell_type": "code",
   "execution_count": 32,
   "id": "3090db5a-0408-4b41-aa11-6dc9882bd09f",
   "metadata": {},
   "outputs": [],
   "source": [
    "data['merchant'] = label_encoder.fit_transform(data['merchant'])\n",
    "df_test['merchant'] = label_encoder.fit_transform(df_test['merchant'])"
   ]
  },
  {
   "cell_type": "code",
   "execution_count": 33,
   "id": "d9b6c11d-0944-4787-b06a-7a6643a60feb",
   "metadata": {},
   "outputs": [
    {
     "data": {
      "text/html": [
       "<div>\n",
       "<style scoped>\n",
       "    .dataframe tbody tr th:only-of-type {\n",
       "        vertical-align: middle;\n",
       "    }\n",
       "\n",
       "    .dataframe tbody tr th {\n",
       "        vertical-align: top;\n",
       "    }\n",
       "\n",
       "    .dataframe thead th {\n",
       "        text-align: right;\n",
       "    }\n",
       "</style>\n",
       "<table border=\"1\" class=\"dataframe\">\n",
       "  <thead>\n",
       "    <tr style=\"text-align: right;\">\n",
       "      <th></th>\n",
       "      <th>merchant</th>\n",
       "      <th>category</th>\n",
       "      <th>amt</th>\n",
       "      <th>gender</th>\n",
       "      <th>city</th>\n",
       "      <th>state</th>\n",
       "      <th>zip</th>\n",
       "      <th>lat</th>\n",
       "      <th>long</th>\n",
       "      <th>city_pop</th>\n",
       "      <th>job</th>\n",
       "      <th>unix_time</th>\n",
       "      <th>merch_lat</th>\n",
       "      <th>merch_long</th>\n",
       "      <th>is_fraud</th>\n",
       "      <th>age</th>\n",
       "      <th>trans_date</th>\n",
       "      <th>trans_time</th>\n",
       "    </tr>\n",
       "  </thead>\n",
       "  <tbody>\n",
       "    <tr>\n",
       "      <th>0</th>\n",
       "      <td>514</td>\n",
       "      <td>misc_net</td>\n",
       "      <td>4.97</td>\n",
       "      <td>F</td>\n",
       "      <td>Moravian Falls</td>\n",
       "      <td>NC</td>\n",
       "      <td>28654</td>\n",
       "      <td>36.0788</td>\n",
       "      <td>-81.1781</td>\n",
       "      <td>3495</td>\n",
       "      <td>Psychologist, counselling</td>\n",
       "      <td>1325376018</td>\n",
       "      <td>36.011293</td>\n",
       "      <td>-82.048315</td>\n",
       "      <td>0</td>\n",
       "      <td>36</td>\n",
       "      <td>2019-01-01</td>\n",
       "      <td>00:00:18</td>\n",
       "    </tr>\n",
       "    <tr>\n",
       "      <th>1</th>\n",
       "      <td>241</td>\n",
       "      <td>grocery_pos</td>\n",
       "      <td>107.23</td>\n",
       "      <td>F</td>\n",
       "      <td>Orient</td>\n",
       "      <td>WA</td>\n",
       "      <td>99160</td>\n",
       "      <td>48.8878</td>\n",
       "      <td>-118.2105</td>\n",
       "      <td>149</td>\n",
       "      <td>Special educational needs teacher</td>\n",
       "      <td>1325376044</td>\n",
       "      <td>49.159047</td>\n",
       "      <td>-118.186462</td>\n",
       "      <td>0</td>\n",
       "      <td>46</td>\n",
       "      <td>2019-01-01</td>\n",
       "      <td>00:00:44</td>\n",
       "    </tr>\n",
       "    <tr>\n",
       "      <th>2</th>\n",
       "      <td>390</td>\n",
       "      <td>entertainment</td>\n",
       "      <td>220.11</td>\n",
       "      <td>M</td>\n",
       "      <td>Malad City</td>\n",
       "      <td>ID</td>\n",
       "      <td>83252</td>\n",
       "      <td>42.1808</td>\n",
       "      <td>-112.2620</td>\n",
       "      <td>4154</td>\n",
       "      <td>Nature conservation officer</td>\n",
       "      <td>1325376051</td>\n",
       "      <td>43.150704</td>\n",
       "      <td>-112.154481</td>\n",
       "      <td>0</td>\n",
       "      <td>62</td>\n",
       "      <td>2019-01-01</td>\n",
       "      <td>00:00:51</td>\n",
       "    </tr>\n",
       "    <tr>\n",
       "      <th>3</th>\n",
       "      <td>360</td>\n",
       "      <td>gas_transport</td>\n",
       "      <td>45.00</td>\n",
       "      <td>M</td>\n",
       "      <td>Boulder</td>\n",
       "      <td>MT</td>\n",
       "      <td>59632</td>\n",
       "      <td>46.2306</td>\n",
       "      <td>-112.1138</td>\n",
       "      <td>1939</td>\n",
       "      <td>Patent attorney</td>\n",
       "      <td>1325376076</td>\n",
       "      <td>47.034331</td>\n",
       "      <td>-112.561071</td>\n",
       "      <td>0</td>\n",
       "      <td>57</td>\n",
       "      <td>2019-01-01</td>\n",
       "      <td>00:01:16</td>\n",
       "    </tr>\n",
       "    <tr>\n",
       "      <th>4</th>\n",
       "      <td>297</td>\n",
       "      <td>misc_pos</td>\n",
       "      <td>41.96</td>\n",
       "      <td>M</td>\n",
       "      <td>Doe Hill</td>\n",
       "      <td>VA</td>\n",
       "      <td>24433</td>\n",
       "      <td>38.4207</td>\n",
       "      <td>-79.4629</td>\n",
       "      <td>99</td>\n",
       "      <td>Dance movement psychotherapist</td>\n",
       "      <td>1325376186</td>\n",
       "      <td>38.674999</td>\n",
       "      <td>-78.632459</td>\n",
       "      <td>0</td>\n",
       "      <td>38</td>\n",
       "      <td>2019-01-01</td>\n",
       "      <td>00:03:06</td>\n",
       "    </tr>\n",
       "  </tbody>\n",
       "</table>\n",
       "</div>"
      ],
      "text/plain": [
       "   merchant       category     amt gender            city state    zip  \\\n",
       "0       514       misc_net    4.97      F  Moravian Falls    NC  28654   \n",
       "1       241    grocery_pos  107.23      F          Orient    WA  99160   \n",
       "2       390  entertainment  220.11      M      Malad City    ID  83252   \n",
       "3       360  gas_transport   45.00      M         Boulder    MT  59632   \n",
       "4       297       misc_pos   41.96      M        Doe Hill    VA  24433   \n",
       "\n",
       "       lat      long  city_pop                                job   unix_time  \\\n",
       "0  36.0788  -81.1781      3495          Psychologist, counselling  1325376018   \n",
       "1  48.8878 -118.2105       149  Special educational needs teacher  1325376044   \n",
       "2  42.1808 -112.2620      4154        Nature conservation officer  1325376051   \n",
       "3  46.2306 -112.1138      1939                    Patent attorney  1325376076   \n",
       "4  38.4207  -79.4629        99     Dance movement psychotherapist  1325376186   \n",
       "\n",
       "   merch_lat  merch_long  is_fraud  age  trans_date trans_time  \n",
       "0  36.011293  -82.048315         0   36  2019-01-01   00:00:18  \n",
       "1  49.159047 -118.186462         0   46  2019-01-01   00:00:44  \n",
       "2  43.150704 -112.154481         0   62  2019-01-01   00:00:51  \n",
       "3  47.034331 -112.561071         0   57  2019-01-01   00:01:16  \n",
       "4  38.674999  -78.632459         0   38  2019-01-01   00:03:06  "
      ]
     },
     "execution_count": 33,
     "metadata": {},
     "output_type": "execute_result"
    }
   ],
   "source": [
    "data.head()"
   ]
  },
  {
   "cell_type": "code",
   "execution_count": 34,
   "id": "6e443eed-df1d-4f86-9ef1-3496af8e18aa",
   "metadata": {},
   "outputs": [
    {
     "data": {
      "text/plain": [
       "city\n",
       "Achille     532\n",
       "Acworth    2097\n",
       "Adams       516\n",
       "Afton      2035\n",
       "Akron       511\n",
       "Name: is_fraud, dtype: int64"
      ]
     },
     "execution_count": 34,
     "metadata": {},
     "output_type": "execute_result"
    }
   ],
   "source": [
    "# Fraud transactions Vs City\n",
    "# Percent distribution of fraud based on city\n",
    "city_tran_total =data.sort_values('city').groupby('city').count()['is_fraud']\n",
    "city_tran_total.head()"
   ]
  },
  {
   "cell_type": "code",
   "execution_count": 35,
   "id": "1f27ce4d-7b14-4589-9992-faeb5f93264d",
   "metadata": {},
   "outputs": [
    {
     "data": {
      "text/plain": [
       "city\n",
       "East China     100.0\n",
       "Walkertown     100.0\n",
       "Freeport       100.0\n",
       "Gaines         100.0\n",
       "Granbury       100.0\n",
       "               ...  \n",
       "Williams         NaN\n",
       "Wilton           NaN\n",
       "Woods Cross      NaN\n",
       "Woodville        NaN\n",
       "Zavalla          NaN\n",
       "Length: 894, dtype: float64"
      ]
     },
     "execution_count": 35,
     "metadata": {},
     "output_type": "execute_result"
    }
   ],
   "source": [
    "city_tran_fraud = data[data.is_fraud == 1]['city'].value_counts()\n",
    "fraud_perc = city_tran_fraud/ city_tran_total * 100\n",
    "fraud_perc.sort_values(ascending=False)"
   ]
  },
  {
   "cell_type": "markdown",
   "id": "33f70b03-ea97-4be1-8de0-2427b7f14e7e",
   "metadata": {},
   "source": [
    "As can be seen, few cities have all transactions as fraud. All these cities have low transaction rate. There are 58 such cities."
   ]
  },
  {
   "cell_type": "code",
   "execution_count": 36,
   "id": "c5b52928-25cf-4bba-8366-43dcb86ece1d",
   "metadata": {},
   "outputs": [],
   "source": [
    "# Transforming alphabetic city data into numeric to be processed by the model\n",
    "data.city = label_encoder.fit_transform(data.city)\n",
    "df_test.city = label_encoder.fit_transform(df_test.city)"
   ]
  },
  {
   "cell_type": "code",
   "execution_count": 37,
   "id": "f93c2488-3675-4db1-9ab8-098e81e71c81",
   "metadata": {},
   "outputs": [
    {
     "data": {
      "text/html": [
       "<div>\n",
       "<style scoped>\n",
       "    .dataframe tbody tr th:only-of-type {\n",
       "        vertical-align: middle;\n",
       "    }\n",
       "\n",
       "    .dataframe tbody tr th {\n",
       "        vertical-align: top;\n",
       "    }\n",
       "\n",
       "    .dataframe thead th {\n",
       "        text-align: right;\n",
       "    }\n",
       "</style>\n",
       "<table border=\"1\" class=\"dataframe\">\n",
       "  <thead>\n",
       "    <tr style=\"text-align: right;\">\n",
       "      <th></th>\n",
       "      <th>merchant</th>\n",
       "      <th>category</th>\n",
       "      <th>amt</th>\n",
       "      <th>gender</th>\n",
       "      <th>city</th>\n",
       "      <th>state</th>\n",
       "      <th>zip</th>\n",
       "      <th>lat</th>\n",
       "      <th>long</th>\n",
       "      <th>city_pop</th>\n",
       "      <th>job</th>\n",
       "      <th>unix_time</th>\n",
       "      <th>merch_lat</th>\n",
       "      <th>merch_long</th>\n",
       "      <th>is_fraud</th>\n",
       "      <th>age</th>\n",
       "      <th>trans_date</th>\n",
       "      <th>trans_time</th>\n",
       "    </tr>\n",
       "  </thead>\n",
       "  <tbody>\n",
       "    <tr>\n",
       "      <th>0</th>\n",
       "      <td>514</td>\n",
       "      <td>misc_net</td>\n",
       "      <td>4.97</td>\n",
       "      <td>F</td>\n",
       "      <td>526</td>\n",
       "      <td>NC</td>\n",
       "      <td>28654</td>\n",
       "      <td>36.0788</td>\n",
       "      <td>-81.1781</td>\n",
       "      <td>3495</td>\n",
       "      <td>Psychologist, counselling</td>\n",
       "      <td>1325376018</td>\n",
       "      <td>36.011293</td>\n",
       "      <td>-82.048315</td>\n",
       "      <td>0</td>\n",
       "      <td>36</td>\n",
       "      <td>2019-01-01</td>\n",
       "      <td>00:00:18</td>\n",
       "    </tr>\n",
       "    <tr>\n",
       "      <th>1</th>\n",
       "      <td>241</td>\n",
       "      <td>grocery_pos</td>\n",
       "      <td>107.23</td>\n",
       "      <td>F</td>\n",
       "      <td>612</td>\n",
       "      <td>WA</td>\n",
       "      <td>99160</td>\n",
       "      <td>48.8878</td>\n",
       "      <td>-118.2105</td>\n",
       "      <td>149</td>\n",
       "      <td>Special educational needs teacher</td>\n",
       "      <td>1325376044</td>\n",
       "      <td>49.159047</td>\n",
       "      <td>-118.186462</td>\n",
       "      <td>0</td>\n",
       "      <td>46</td>\n",
       "      <td>2019-01-01</td>\n",
       "      <td>00:00:44</td>\n",
       "    </tr>\n",
       "  </tbody>\n",
       "</table>\n",
       "</div>"
      ],
      "text/plain": [
       "   merchant     category     amt gender  city state    zip      lat      long  \\\n",
       "0       514     misc_net    4.97      F   526    NC  28654  36.0788  -81.1781   \n",
       "1       241  grocery_pos  107.23      F   612    WA  99160  48.8878 -118.2105   \n",
       "\n",
       "   city_pop                                job   unix_time  merch_lat  \\\n",
       "0      3495          Psychologist, counselling  1325376018  36.011293   \n",
       "1       149  Special educational needs teacher  1325376044  49.159047   \n",
       "\n",
       "   merch_long  is_fraud  age  trans_date trans_time  \n",
       "0  -82.048315         0   36  2019-01-01   00:00:18  \n",
       "1 -118.186462         0   46  2019-01-01   00:00:44  "
      ]
     },
     "execution_count": 37,
     "metadata": {},
     "output_type": "execute_result"
    }
   ],
   "source": [
    "data.head(2)"
   ]
  },
  {
   "cell_type": "code",
   "execution_count": 38,
   "id": "93749052-9759-4f4a-8702-12846218844a",
   "metadata": {},
   "outputs": [
    {
     "data": {
      "text/plain": [
       "category\n",
       "entertainment     0.247835\n",
       "food_dining       0.165098\n",
       "gas_transport     0.469394\n",
       "grocery_net       0.294817\n",
       "grocery_pos       1.409761\n",
       "health_fitness    0.154869\n",
       "home              0.160825\n",
       "kids_pets         0.211439\n",
       "misc_net          1.445795\n",
       "misc_pos          0.313853\n",
       "personal_care     0.242403\n",
       "shopping_net      1.756149\n",
       "shopping_pos      0.722538\n",
       "travel            0.286370\n",
       "dtype: float64"
      ]
     },
     "execution_count": 38,
     "metadata": {},
     "output_type": "execute_result"
    }
   ],
   "source": [
    "# category Vs fraud\n",
    "# Percent distribution of fraud based on transaction category\n",
    "cat_tran_total = data.sort_values('category').groupby('category').count()['is_fraud']\n",
    "cat_tran_fraud = data[data.is_fraud == 1]['category'].value_counts()\n",
    "fraud_perc = cat_tran_fraud/ cat_tran_total * 100\n",
    "fraud_perc"
   ]
  },
  {
   "cell_type": "code",
   "execution_count": 39,
   "id": "adf06167-8d8d-4dfc-b125-9db9e9d95e61",
   "metadata": {},
   "outputs": [
    {
     "data": {
      "image/png": "[encoded data removed]",
      "text/plain": [
       "<Figure size 640x480 with 1 Axes>"
      ]
     },
     "metadata": {},
     "output_type": "display_data"
    }
   ],
   "source": [
    "plt.title('Category wise fraud transactions', fontsize= 10, color = 'Red', fontweight = 100)\n",
    "plt.ylabel('% Fraud Transactions', fontdict = {'fontsize': 10, 'color': 'Blue', 'fontweight' : '300'})\n",
    "fraud_perc.sort_values().plot.bar()\n",
    "plt.show()"
   ]
  },
  {
   "cell_type": "code",
   "execution_count": 40,
   "id": "1c6a6aa5-0621-4248-abe4-7e250cdf4c28",
   "metadata": {},
   "outputs": [],
   "source": [
    "data.category = label_encoder.fit_transform(data.category)\n",
    "df_test.category = label_encoder.fit_transform(df_test.category)"
   ]
  },
  {
   "cell_type": "code",
   "execution_count": 41,
   "id": "151bcfee-64d9-4c45-ba0c-c2af0e213288",
   "metadata": {},
   "outputs": [
    {
     "data": {
      "image/png": "[encoded data removed]",
      "text/plain": [
       "<Figure size 640x480 with 1 Axes>"
      ]
     },
     "metadata": {},
     "output_type": "display_data"
    }
   ],
   "source": [
    "# Gender Vs Fraud\n",
    "# Percent distribution of fraud based on Gender\n",
    "gen_tran_total = data.sort_values('gender').groupby('gender').count()['is_fraud']\n",
    "gen_tran_fraud = data[data.is_fraud == 1]['gender'].value_counts()\n",
    "fraud_perc = gen_tran_fraud/ gen_tran_total * 100\n",
    "plt.title('Gender wise Fraud Transactions', fontsize= 10, color = 'Red', fontweight = 100)\n",
    "fraud_perc.sort_values().plot.bar()\n",
    "plt.show()\n"
   ]
  },
  {
   "cell_type": "code",
   "execution_count": 42,
   "id": "98063b26-16c7-4f32-bd2d-bd4a37960c15",
   "metadata": {},
   "outputs": [],
   "source": [
    "# Transforming alphabetic gender data into numeric to be processed by the model\n",
    "data.gender = data.gender.map({'M': 1, \"F\": 0})\n",
    "df_test.gender = df_test.gender.map({'M': 1, \"F\": 0})"
   ]
  },
  {
   "cell_type": "code",
   "execution_count": 43,
   "id": "0f0cb628-e4b8-4413-82c1-a32acd357f8e",
   "metadata": {},
   "outputs": [
    {
     "data": {
      "text/plain": [
       "state\n",
       "AK      1.698113\n",
       "AL      0.524531\n",
       "AR      0.517236\n",
       "AZ      0.343547\n",
       "CA      0.578424\n",
       "CO      0.814121\n",
       "CT      0.207738\n",
       "DC      0.581234\n",
       "DE    100.000000\n",
       "FL      0.658527\n",
       "GA      0.560181\n",
       "HI      0.273544\n",
       "IA      0.526218\n",
       "ID      0.198377\n",
       "IL      0.573384\n",
       "IN      0.514866\n",
       "KS      0.678379\n",
       "KY      0.544337\n",
       "LA      0.434057\n",
       "MA      0.557531\n",
       "MD      0.599397\n",
       "ME      0.720994\n",
       "MI      0.515665\n",
       "MN      0.652709\n",
       "MO      0.497357\n",
       "MS      0.542760\n",
       "MT      0.272248\n",
       "NC      0.492302\n",
       "ND      0.385500\n",
       "NE      0.744786\n",
       "NH      0.712733\n",
       "NJ      0.479616\n",
       "NM      0.499787\n",
       "NV      0.838238\n",
       "NY      0.664663\n",
       "OH      0.690620\n",
       "OK      0.536163\n",
       "OR      0.801204\n",
       "PA      0.573597\n",
       "RI      2.727273\n",
       "SC      0.661185\n",
       "SD      0.600454\n",
       "TN      0.797539\n",
       "TX      0.504870\n",
       "UT      0.570147\n",
       "VA      0.676923\n",
       "VT      0.611829\n",
       "WA      0.507292\n",
       "WI      0.555026\n",
       "WV      0.568292\n",
       "WY      0.569299\n",
       "dtype: float64"
      ]
     },
     "execution_count": 43,
     "metadata": {},
     "output_type": "execute_result"
    }
   ],
   "source": [
    "state_tran_total = data.sort_values('state').groupby('state').count()['is_fraud']\n",
    "state_tran_fraud = data[data.is_fraud == 1]['state'].value_counts()\n",
    "fraud_perc = state_tran_fraud/ state_tran_total * 100\n",
    "fraud_perc"
   ]
  },
  {
   "cell_type": "markdown",
   "id": "07e0a0e8-6413-457d-b0a9-41c63173e909",
   "metadata": {},
   "source": [
    "This is very significant. While the number of transactions in DE is very less, all of them are fraud transaction. Rest all the states have very low fraud transaction."
   ]
  },
  {
   "cell_type": "code",
   "execution_count": 44,
   "id": "4682b8b9-ebd3-456b-b0ef-88e1de5b2634",
   "metadata": {},
   "outputs": [],
   "source": [
    "# Transforming alphabetic state data into numeric to be processed by the model\n",
    "data.state = label_encoder.fit_transform(data.state)\n",
    "df_test.state = label_encoder.fit_transform(df_test.state)"
   ]
  },
  {
   "cell_type": "code",
   "execution_count": 45,
   "id": "7e2decb4-a027-4869-b0f7-95473c95edd5",
   "metadata": {},
   "outputs": [
    {
     "data": {
      "text/html": [
       "<div>\n",
       "<style scoped>\n",
       "    .dataframe tbody tr th:only-of-type {\n",
       "        vertical-align: middle;\n",
       "    }\n",
       "\n",
       "    .dataframe tbody tr th {\n",
       "        vertical-align: top;\n",
       "    }\n",
       "\n",
       "    .dataframe thead th {\n",
       "        text-align: right;\n",
       "    }\n",
       "</style>\n",
       "<table border=\"1\" class=\"dataframe\">\n",
       "  <thead>\n",
       "    <tr style=\"text-align: right;\">\n",
       "      <th></th>\n",
       "      <th>merchant</th>\n",
       "      <th>category</th>\n",
       "      <th>amt</th>\n",
       "      <th>gender</th>\n",
       "      <th>city</th>\n",
       "      <th>state</th>\n",
       "      <th>zip</th>\n",
       "      <th>lat</th>\n",
       "      <th>long</th>\n",
       "      <th>city_pop</th>\n",
       "      <th>job</th>\n",
       "      <th>unix_time</th>\n",
       "      <th>merch_lat</th>\n",
       "      <th>merch_long</th>\n",
       "      <th>is_fraud</th>\n",
       "      <th>age</th>\n",
       "      <th>trans_date</th>\n",
       "      <th>trans_time</th>\n",
       "    </tr>\n",
       "  </thead>\n",
       "  <tbody>\n",
       "    <tr>\n",
       "      <th>0</th>\n",
       "      <td>514</td>\n",
       "      <td>8</td>\n",
       "      <td>4.97</td>\n",
       "      <td>0</td>\n",
       "      <td>526</td>\n",
       "      <td>27</td>\n",
       "      <td>28654</td>\n",
       "      <td>36.0788</td>\n",
       "      <td>-81.1781</td>\n",
       "      <td>3495</td>\n",
       "      <td>Psychologist, counselling</td>\n",
       "      <td>1325376018</td>\n",
       "      <td>36.011293</td>\n",
       "      <td>-82.048315</td>\n",
       "      <td>0</td>\n",
       "      <td>36</td>\n",
       "      <td>2019-01-01</td>\n",
       "      <td>00:00:18</td>\n",
       "    </tr>\n",
       "    <tr>\n",
       "      <th>1</th>\n",
       "      <td>241</td>\n",
       "      <td>4</td>\n",
       "      <td>107.23</td>\n",
       "      <td>0</td>\n",
       "      <td>612</td>\n",
       "      <td>47</td>\n",
       "      <td>99160</td>\n",
       "      <td>48.8878</td>\n",
       "      <td>-118.2105</td>\n",
       "      <td>149</td>\n",
       "      <td>Special educational needs teacher</td>\n",
       "      <td>1325376044</td>\n",
       "      <td>49.159047</td>\n",
       "      <td>-118.186462</td>\n",
       "      <td>0</td>\n",
       "      <td>46</td>\n",
       "      <td>2019-01-01</td>\n",
       "      <td>00:00:44</td>\n",
       "    </tr>\n",
       "  </tbody>\n",
       "</table>\n",
       "</div>"
      ],
      "text/plain": [
       "   merchant  category     amt  gender  city  state    zip      lat      long  \\\n",
       "0       514         8    4.97       0   526     27  28654  36.0788  -81.1781   \n",
       "1       241         4  107.23       0   612     47  99160  48.8878 -118.2105   \n",
       "\n",
       "   city_pop                                job   unix_time  merch_lat  \\\n",
       "0      3495          Psychologist, counselling  1325376018  36.011293   \n",
       "1       149  Special educational needs teacher  1325376044  49.159047   \n",
       "\n",
       "   merch_long  is_fraud  age  trans_date trans_time  \n",
       "0  -82.048315         0   36  2019-01-01   00:00:18  \n",
       "1 -118.186462         0   46  2019-01-01   00:00:44  "
      ]
     },
     "execution_count": 45,
     "metadata": {},
     "output_type": "execute_result"
    }
   ],
   "source": [
    "data.head(2)"
   ]
  },
  {
   "cell_type": "code",
   "execution_count": 46,
   "id": "ea717135-ba23-43bc-b311-46b0b28bdfad",
   "metadata": {},
   "outputs": [
    {
     "data": {
      "text/plain": [
       "job\n",
       "Armed forces technical officer       100.000000\n",
       "Engineer, site                       100.000000\n",
       "Information officer                  100.000000\n",
       "Legal secretary                      100.000000\n",
       "Industrial buyer                     100.000000\n",
       "Careers adviser                      100.000000\n",
       "Homeopath                            100.000000\n",
       "Broadcast journalist                 100.000000\n",
       "Personnel officer                    100.000000\n",
       "Forest/woodland manager              100.000000\n",
       "Sales promotion account executive    100.000000\n",
       "Air traffic controller               100.000000\n",
       "Contracting civil engineer           100.000000\n",
       "Ship broker                          100.000000\n",
       "Solicitor                            100.000000\n",
       "Accountant, chartered                100.000000\n",
       "Dancer                               100.000000\n",
       "Warehouse manager                    100.000000\n",
       "Veterinary surgeon                   100.000000\n",
       "Lawyer                                 5.185185\n",
       "dtype: float64"
      ]
     },
     "execution_count": 46,
     "metadata": {},
     "output_type": "execute_result"
    }
   ],
   "source": [
    "# Job Vs Fraud\n",
    "# Percent distribution of fraud based on Job\n",
    "job_tran_total = data.sort_values('job').groupby('job').count()['is_fraud']\n",
    "job_tran_fraud = data[data.is_fraud == 1]['job'].value_counts()\n",
    "fraud_perc = job_tran_fraud/ job_tran_total * 100\n",
    "fraud_perc.sort_values(ascending=False).head(20)"
   ]
  },
  {
   "cell_type": "markdown",
   "id": "c78007f4-c1bd-42bf-816d-c78406d2dd3d",
   "metadata": {},
   "source": [
    "There seems certain jobs that have real high % of fraud transactions."
   ]
  },
  {
   "cell_type": "code",
   "execution_count": 47,
   "id": "358143fd-8452-4c63-84e1-27b77b7a5cee",
   "metadata": {},
   "outputs": [],
   "source": [
    "data.job= label_encoder.fit_transform(data.job)"
   ]
  },
  {
   "cell_type": "code",
   "execution_count": 48,
   "id": "4b6849c0-7852-40ce-87e4-bed5f6b35f33",
   "metadata": {},
   "outputs": [],
   "source": [
    "df_test.job= label_encoder.fit_transform(df_test.job)"
   ]
  },
  {
   "cell_type": "code",
   "execution_count": 49,
   "id": "29c32ebd-a63b-4ed9-be29-f635f13775d1",
   "metadata": {},
   "outputs": [
    {
     "data": {
      "text/html": [
       "<div>\n",
       "<style scoped>\n",
       "    .dataframe tbody tr th:only-of-type {\n",
       "        vertical-align: middle;\n",
       "    }\n",
       "\n",
       "    .dataframe tbody tr th {\n",
       "        vertical-align: top;\n",
       "    }\n",
       "\n",
       "    .dataframe thead th {\n",
       "        text-align: right;\n",
       "    }\n",
       "</style>\n",
       "<table border=\"1\" class=\"dataframe\">\n",
       "  <thead>\n",
       "    <tr style=\"text-align: right;\">\n",
       "      <th></th>\n",
       "      <th>merchant</th>\n",
       "      <th>category</th>\n",
       "      <th>amt</th>\n",
       "      <th>gender</th>\n",
       "      <th>city</th>\n",
       "      <th>state</th>\n",
       "      <th>zip</th>\n",
       "      <th>lat</th>\n",
       "      <th>long</th>\n",
       "      <th>city_pop</th>\n",
       "      <th>job</th>\n",
       "      <th>unix_time</th>\n",
       "      <th>merch_lat</th>\n",
       "      <th>merch_long</th>\n",
       "      <th>is_fraud</th>\n",
       "      <th>age</th>\n",
       "      <th>trans_date</th>\n",
       "      <th>trans_time</th>\n",
       "    </tr>\n",
       "  </thead>\n",
       "  <tbody>\n",
       "    <tr>\n",
       "      <th>0</th>\n",
       "      <td>514</td>\n",
       "      <td>8</td>\n",
       "      <td>4.97</td>\n",
       "      <td>0</td>\n",
       "      <td>526</td>\n",
       "      <td>27</td>\n",
       "      <td>28654</td>\n",
       "      <td>36.0788</td>\n",
       "      <td>-81.1781</td>\n",
       "      <td>3495</td>\n",
       "      <td>370</td>\n",
       "      <td>1325376018</td>\n",
       "      <td>36.011293</td>\n",
       "      <td>-82.048315</td>\n",
       "      <td>0</td>\n",
       "      <td>36</td>\n",
       "      <td>2019-01-01</td>\n",
       "      <td>00:00:18</td>\n",
       "    </tr>\n",
       "    <tr>\n",
       "      <th>1</th>\n",
       "      <td>241</td>\n",
       "      <td>4</td>\n",
       "      <td>107.23</td>\n",
       "      <td>0</td>\n",
       "      <td>612</td>\n",
       "      <td>47</td>\n",
       "      <td>99160</td>\n",
       "      <td>48.8878</td>\n",
       "      <td>-118.2105</td>\n",
       "      <td>149</td>\n",
       "      <td>428</td>\n",
       "      <td>1325376044</td>\n",
       "      <td>49.159047</td>\n",
       "      <td>-118.186462</td>\n",
       "      <td>0</td>\n",
       "      <td>46</td>\n",
       "      <td>2019-01-01</td>\n",
       "      <td>00:00:44</td>\n",
       "    </tr>\n",
       "  </tbody>\n",
       "</table>\n",
       "</div>"
      ],
      "text/plain": [
       "   merchant  category     amt  gender  city  state    zip      lat      long  \\\n",
       "0       514         8    4.97       0   526     27  28654  36.0788  -81.1781   \n",
       "1       241         4  107.23       0   612     47  99160  48.8878 -118.2105   \n",
       "\n",
       "   city_pop  job   unix_time  merch_lat  merch_long  is_fraud  age  \\\n",
       "0      3495  370  1325376018  36.011293  -82.048315         0   36   \n",
       "1       149  428  1325376044  49.159047 -118.186462         0   46   \n",
       "\n",
       "   trans_date trans_time  \n",
       "0  2019-01-01   00:00:18  \n",
       "1  2019-01-01   00:00:44  "
      ]
     },
     "execution_count": 49,
     "metadata": {},
     "output_type": "execute_result"
    }
   ],
   "source": [
    "data.head(2)"
   ]
  },
  {
   "cell_type": "code",
   "execution_count": 50,
   "id": "4405c112-723c-481b-a7c8-9a9466f0e277",
   "metadata": {},
   "outputs": [
    {
     "data": {
      "text/plain": [
       "city_pop\n",
       "5505      100.0\n",
       "1888      100.0\n",
       "18799     100.0\n",
       "19803     100.0\n",
       "19880     100.0\n",
       "20133     100.0\n",
       "98816     100.0\n",
       "198659    100.0\n",
       "40470     100.0\n",
       "4984      100.0\n",
       "4870      100.0\n",
       "1439      100.0\n",
       "67100     100.0\n",
       "64438     100.0\n",
       "4431      100.0\n",
       "4299      100.0\n",
       "28506     100.0\n",
       "6063      100.0\n",
       "478404    100.0\n",
       "4046      100.0\n",
       "dtype: float64"
      ]
     },
     "execution_count": 50,
     "metadata": {},
     "output_type": "execute_result"
    }
   ],
   "source": [
    "city_pop_tran_total = data.sort_values('city_pop').groupby('city_pop').count()['is_fraud']\n",
    "city_pop_tran_fraud = data[data.is_fraud == 1]['city_pop'].value_counts()\n",
    "fraud_perc = city_pop_tran_fraud/ city_pop_tran_total * 100\n",
    "fraud_perc.sort_values(ascending=False).head(20)"
   ]
  },
  {
   "cell_type": "markdown",
   "id": "baf51f2b-5cdd-4670-9d1f-e6bbe69dff44",
   "metadata": {},
   "source": [
    "Cities with less population, tends to have more fraud cases."
   ]
  },
  {
   "cell_type": "code",
   "execution_count": 51,
   "id": "6d4fe689-78c7-4f43-ba3c-3a9696ca1465",
   "metadata": {},
   "outputs": [
    {
     "data": {
      "image/png": "[encoded data removed]",
      "text/plain": [
       "<Figure size 640x480 with 1 Axes>"
      ]
     },
     "metadata": {},
     "output_type": "display_data"
    }
   ],
   "source": [
    "# Fraud Vs Age\n",
    "temp = data[data.is_fraud == 1]\n",
    "plt.title('Distribution of Age', fontsize= 10, color = 'Red', fontweight = 100)\n",
    "plt.hist(temp.age, edgecolor='Black')\n",
    "plt.xticks(np.arange(10, 100, step=10))\n",
    "plt.show()"
   ]
  },
  {
   "cell_type": "markdown",
   "id": "17b8a58f-2187-4690-b7af-7b2405fb5c78",
   "metadata": {},
   "source": [
    "So, people in age group 50 to 60 tends to be slightly more victims of fraud."
   ]
  },
  {
   "cell_type": "code",
   "execution_count": 52,
   "id": "4a90670c-8d53-40c0-b92b-b989445da563",
   "metadata": {},
   "outputs": [
    {
     "data": {
      "text/html": [
       "<div>\n",
       "<style scoped>\n",
       "    .dataframe tbody tr th:only-of-type {\n",
       "        vertical-align: middle;\n",
       "    }\n",
       "\n",
       "    .dataframe tbody tr th {\n",
       "        vertical-align: top;\n",
       "    }\n",
       "\n",
       "    .dataframe thead th {\n",
       "        text-align: right;\n",
       "    }\n",
       "</style>\n",
       "<table border=\"1\" class=\"dataframe\">\n",
       "  <thead>\n",
       "    <tr style=\"text-align: right;\">\n",
       "      <th></th>\n",
       "      <th>merchant</th>\n",
       "      <th>category</th>\n",
       "      <th>amt</th>\n",
       "      <th>gender</th>\n",
       "      <th>city</th>\n",
       "      <th>state</th>\n",
       "      <th>zip</th>\n",
       "      <th>lat</th>\n",
       "      <th>long</th>\n",
       "      <th>city_pop</th>\n",
       "      <th>job</th>\n",
       "      <th>unix_time</th>\n",
       "      <th>merch_lat</th>\n",
       "      <th>merch_long</th>\n",
       "      <th>is_fraud</th>\n",
       "      <th>age</th>\n",
       "      <th>trans_date</th>\n",
       "      <th>trans_time</th>\n",
       "    </tr>\n",
       "  </thead>\n",
       "  <tbody>\n",
       "    <tr>\n",
       "      <th>0</th>\n",
       "      <td>514</td>\n",
       "      <td>8</td>\n",
       "      <td>4.97</td>\n",
       "      <td>0</td>\n",
       "      <td>526</td>\n",
       "      <td>27</td>\n",
       "      <td>28654</td>\n",
       "      <td>36.0788</td>\n",
       "      <td>-81.1781</td>\n",
       "      <td>3495</td>\n",
       "      <td>370</td>\n",
       "      <td>1325376018</td>\n",
       "      <td>36.011293</td>\n",
       "      <td>-82.048315</td>\n",
       "      <td>0</td>\n",
       "      <td>36</td>\n",
       "      <td>2019-01-01</td>\n",
       "      <td>00:00:18</td>\n",
       "    </tr>\n",
       "    <tr>\n",
       "      <th>1</th>\n",
       "      <td>241</td>\n",
       "      <td>4</td>\n",
       "      <td>107.23</td>\n",
       "      <td>0</td>\n",
       "      <td>612</td>\n",
       "      <td>47</td>\n",
       "      <td>99160</td>\n",
       "      <td>48.8878</td>\n",
       "      <td>-118.2105</td>\n",
       "      <td>149</td>\n",
       "      <td>428</td>\n",
       "      <td>1325376044</td>\n",
       "      <td>49.159047</td>\n",
       "      <td>-118.186462</td>\n",
       "      <td>0</td>\n",
       "      <td>46</td>\n",
       "      <td>2019-01-01</td>\n",
       "      <td>00:00:44</td>\n",
       "    </tr>\n",
       "  </tbody>\n",
       "</table>\n",
       "</div>"
      ],
      "text/plain": [
       "   merchant  category     amt  gender  city  state    zip      lat      long  \\\n",
       "0       514         8    4.97       0   526     27  28654  36.0788  -81.1781   \n",
       "1       241         4  107.23       0   612     47  99160  48.8878 -118.2105   \n",
       "\n",
       "   city_pop  job   unix_time  merch_lat  merch_long  is_fraud  age  \\\n",
       "0      3495  370  1325376018  36.011293  -82.048315         0   36   \n",
       "1       149  428  1325376044  49.159047 -118.186462         0   46   \n",
       "\n",
       "   trans_date trans_time  \n",
       "0  2019-01-01   00:00:18  \n",
       "1  2019-01-01   00:00:44  "
      ]
     },
     "execution_count": 52,
     "metadata": {},
     "output_type": "execute_result"
    }
   ],
   "source": [
    "data.head(2)"
   ]
  },
  {
   "cell_type": "code",
   "execution_count": 53,
   "id": "f960db79-5b3c-473c-92af-232b0954d639",
   "metadata": {},
   "outputs": [
    {
     "data": {
      "text/plain": [
       "zip\n",
       "77027    100.0\n",
       "75246    100.0\n",
       "11944    100.0\n",
       "74108    100.0\n",
       "11763    100.0\n",
       "11747    100.0\n",
       "32065    100.0\n",
       "61364    100.0\n",
       "28412    100.0\n",
       "89109    100.0\n",
       "10954    100.0\n",
       "10553    100.0\n",
       "16041    100.0\n",
       "10533    100.0\n",
       "16214    100.0\n",
       "47842    100.0\n",
       "10018    100.0\n",
       "72135    100.0\n",
       "90240    100.0\n",
       "23117    100.0\n",
       "43723    100.0\n",
       "70065    100.0\n",
       "12207    100.0\n",
       "78208    100.0\n",
       "78644    100.0\n",
       "dtype: float64"
      ]
     },
     "execution_count": 53,
     "metadata": {},
     "output_type": "execute_result"
    }
   ],
   "source": [
    "# Fraud Vs Zip\n",
    "zip_tran_total = data.sort_values('zip').groupby('zip').count()['is_fraud']\n",
    "zip_tran_fraud = data[data.is_fraud == 1]['zip'].value_counts()\n",
    "fraud_perc = zip_tran_fraud/ zip_tran_total * 100\n",
    "fraud_perc.sort_values(ascending=False).head(25)"
   ]
  },
  {
   "cell_type": "code",
   "execution_count": 54,
   "id": "1faa7fc9-6597-4e83-a60a-0d15e235c601",
   "metadata": {},
   "outputs": [
    {
     "data": {
      "text/html": [
       "<div>\n",
       "<style scoped>\n",
       "    .dataframe tbody tr th:only-of-type {\n",
       "        vertical-align: middle;\n",
       "    }\n",
       "\n",
       "    .dataframe tbody tr th {\n",
       "        vertical-align: top;\n",
       "    }\n",
       "\n",
       "    .dataframe thead th {\n",
       "        text-align: right;\n",
       "    }\n",
       "</style>\n",
       "<table border=\"1\" class=\"dataframe\">\n",
       "  <thead>\n",
       "    <tr style=\"text-align: right;\">\n",
       "      <th></th>\n",
       "      <th>merchant</th>\n",
       "      <th>category</th>\n",
       "      <th>amt</th>\n",
       "      <th>gender</th>\n",
       "      <th>city</th>\n",
       "      <th>state</th>\n",
       "      <th>zip</th>\n",
       "      <th>lat</th>\n",
       "      <th>long</th>\n",
       "      <th>city_pop</th>\n",
       "      <th>job</th>\n",
       "      <th>unix_time</th>\n",
       "      <th>merch_lat</th>\n",
       "      <th>merch_long</th>\n",
       "      <th>is_fraud</th>\n",
       "      <th>age</th>\n",
       "      <th>trans_date</th>\n",
       "      <th>trans_time</th>\n",
       "    </tr>\n",
       "  </thead>\n",
       "  <tbody>\n",
       "    <tr>\n",
       "      <th>0</th>\n",
       "      <td>514</td>\n",
       "      <td>8</td>\n",
       "      <td>4.97</td>\n",
       "      <td>0</td>\n",
       "      <td>526</td>\n",
       "      <td>27</td>\n",
       "      <td>28654</td>\n",
       "      <td>36.0788</td>\n",
       "      <td>-81.1781</td>\n",
       "      <td>3495</td>\n",
       "      <td>370</td>\n",
       "      <td>1325376018</td>\n",
       "      <td>36.011293</td>\n",
       "      <td>-82.048315</td>\n",
       "      <td>0</td>\n",
       "      <td>36</td>\n",
       "      <td>2019-01-01</td>\n",
       "      <td>00:00:18</td>\n",
       "    </tr>\n",
       "    <tr>\n",
       "      <th>1</th>\n",
       "      <td>241</td>\n",
       "      <td>4</td>\n",
       "      <td>107.23</td>\n",
       "      <td>0</td>\n",
       "      <td>612</td>\n",
       "      <td>47</td>\n",
       "      <td>99160</td>\n",
       "      <td>48.8878</td>\n",
       "      <td>-118.2105</td>\n",
       "      <td>149</td>\n",
       "      <td>428</td>\n",
       "      <td>1325376044</td>\n",
       "      <td>49.159047</td>\n",
       "      <td>-118.186462</td>\n",
       "      <td>0</td>\n",
       "      <td>46</td>\n",
       "      <td>2019-01-01</td>\n",
       "      <td>00:00:44</td>\n",
       "    </tr>\n",
       "    <tr>\n",
       "      <th>2</th>\n",
       "      <td>390</td>\n",
       "      <td>0</td>\n",
       "      <td>220.11</td>\n",
       "      <td>1</td>\n",
       "      <td>468</td>\n",
       "      <td>13</td>\n",
       "      <td>83252</td>\n",
       "      <td>42.1808</td>\n",
       "      <td>-112.2620</td>\n",
       "      <td>4154</td>\n",
       "      <td>307</td>\n",
       "      <td>1325376051</td>\n",
       "      <td>43.150704</td>\n",
       "      <td>-112.154481</td>\n",
       "      <td>0</td>\n",
       "      <td>62</td>\n",
       "      <td>2019-01-01</td>\n",
       "      <td>00:00:51</td>\n",
       "    </tr>\n",
       "    <tr>\n",
       "      <th>3</th>\n",
       "      <td>360</td>\n",
       "      <td>2</td>\n",
       "      <td>45.00</td>\n",
       "      <td>1</td>\n",
       "      <td>84</td>\n",
       "      <td>26</td>\n",
       "      <td>59632</td>\n",
       "      <td>46.2306</td>\n",
       "      <td>-112.1138</td>\n",
       "      <td>1939</td>\n",
       "      <td>328</td>\n",
       "      <td>1325376076</td>\n",
       "      <td>47.034331</td>\n",
       "      <td>-112.561071</td>\n",
       "      <td>0</td>\n",
       "      <td>57</td>\n",
       "      <td>2019-01-01</td>\n",
       "      <td>00:01:16</td>\n",
       "    </tr>\n",
       "    <tr>\n",
       "      <th>4</th>\n",
       "      <td>297</td>\n",
       "      <td>9</td>\n",
       "      <td>41.96</td>\n",
       "      <td>1</td>\n",
       "      <td>216</td>\n",
       "      <td>45</td>\n",
       "      <td>24433</td>\n",
       "      <td>38.4207</td>\n",
       "      <td>-79.4629</td>\n",
       "      <td>99</td>\n",
       "      <td>116</td>\n",
       "      <td>1325376186</td>\n",
       "      <td>38.674999</td>\n",
       "      <td>-78.632459</td>\n",
       "      <td>0</td>\n",
       "      <td>38</td>\n",
       "      <td>2019-01-01</td>\n",
       "      <td>00:03:06</td>\n",
       "    </tr>\n",
       "  </tbody>\n",
       "</table>\n",
       "</div>"
      ],
      "text/plain": [
       "   merchant  category     amt  gender  city  state    zip      lat      long  \\\n",
       "0       514         8    4.97       0   526     27  28654  36.0788  -81.1781   \n",
       "1       241         4  107.23       0   612     47  99160  48.8878 -118.2105   \n",
       "2       390         0  220.11       1   468     13  83252  42.1808 -112.2620   \n",
       "3       360         2   45.00       1    84     26  59632  46.2306 -112.1138   \n",
       "4       297         9   41.96       1   216     45  24433  38.4207  -79.4629   \n",
       "\n",
       "   city_pop  job   unix_time  merch_lat  merch_long  is_fraud  age  \\\n",
       "0      3495  370  1325376018  36.011293  -82.048315         0   36   \n",
       "1       149  428  1325376044  49.159047 -118.186462         0   46   \n",
       "2      4154  307  1325376051  43.150704 -112.154481         0   62   \n",
       "3      1939  328  1325376076  47.034331 -112.561071         0   57   \n",
       "4        99  116  1325376186  38.674999  -78.632459         0   38   \n",
       "\n",
       "   trans_date trans_time  \n",
       "0  2019-01-01   00:00:18  \n",
       "1  2019-01-01   00:00:44  \n",
       "2  2019-01-01   00:00:51  \n",
       "3  2019-01-01   00:01:16  \n",
       "4  2019-01-01   00:03:06  "
      ]
     },
     "execution_count": 54,
     "metadata": {},
     "output_type": "execute_result"
    }
   ],
   "source": [
    "data.head()"
   ]
  },
  {
   "cell_type": "code",
   "execution_count": 55,
   "id": "67926032-7397-4858-ae95-58dbac2772c3",
   "metadata": {},
   "outputs": [
    {
     "data": {
      "text/plain": [
       "lat\n",
       "66.6933    100.0\n",
       "35.0271    100.0\n",
       "42.2008    100.0\n",
       "35.4359    100.0\n",
       "30.5471    100.0\n",
       "dtype: float64"
      ]
     },
     "execution_count": 55,
     "metadata": {},
     "output_type": "execute_result"
    }
   ],
   "source": [
    "# Fraud Vs lat\n",
    "lat_tran_total = data.sort_values('lat').groupby('lat').count()['is_fraud']\n",
    "lat_tran_fraud = data[data.is_fraud == 1]['lat'].value_counts()\n",
    "fraud_perc = lat_tran_fraud/ lat_tran_total * 100\n",
    "fraud_perc.sort_values(ascending=False).head()"
   ]
  },
  {
   "cell_type": "markdown",
   "id": "711a7595-ace4-4477-9ac8-a30c3113db15",
   "metadata": {},
   "source": [
    "\n",
    "As is evident from above stats, there are perticular latitudes codes that have 100% frauds."
   ]
  },
  {
   "cell_type": "code",
   "execution_count": 56,
   "id": "04cb4423-7c9b-4d52-9bc8-90eb13480b26",
   "metadata": {},
   "outputs": [
    {
     "data": {
      "text/plain": [
       "long\n",
       "-83.8855    100.0\n",
       "-88.9307    100.0\n",
       "-76.2701    100.0\n",
       "-81.7742    100.0\n",
       "-88.4927    100.0\n",
       "dtype: float64"
      ]
     },
     "execution_count": 56,
     "metadata": {},
     "output_type": "execute_result"
    }
   ],
   "source": [
    "# Fraud Vs long\n",
    "long_tran_total = data.sort_values('long').groupby('long').count()['is_fraud']\n",
    "long_tran_fraud = data[data.is_fraud == 1]['long'].value_counts()\n",
    "fraud_perc = long_tran_fraud/ long_tran_total * 100\n",
    "fraud_perc.sort_values(ascending=False).head()"
   ]
  },
  {
   "cell_type": "code",
   "execution_count": 57,
   "id": "f41e7b36-75ef-42e9-a2e1-51d8ef0235fb",
   "metadata": {},
   "outputs": [
    {
     "data": {
      "text/plain": [
       "merch_lat\n",
       "19.425114    100.0\n",
       "40.920282    100.0\n",
       "40.940052    100.0\n",
       "40.934939    100.0\n",
       "40.934619    100.0\n",
       "dtype: float64"
      ]
     },
     "execution_count": 57,
     "metadata": {},
     "output_type": "execute_result"
    }
   ],
   "source": [
    "# Fraud Vs merch_lat\n",
    "lat_tran_total = data.sort_values('merch_lat').groupby('merch_lat').count()['is_fraud']\n",
    "lat_tran_fraud = data[data.is_fraud == 1]['merch_lat'].value_counts()\n",
    "fraud_perc = lat_tran_fraud/ lat_tran_total * 100\n",
    "fraud_perc.sort_values(ascending=False).head()"
   ]
  },
  {
   "cell_type": "code",
   "execution_count": 58,
   "id": "8a264480-887e-458a-8d0c-3f3f14427900",
   "metadata": {},
   "outputs": [
    {
     "data": {
      "text/plain": [
       "merch_long\n",
       "-166.550779    100.0\n",
       "-81.993885     100.0\n",
       "-81.998380     100.0\n",
       "-81.999852     100.0\n",
       "-82.003288     100.0\n",
       "dtype: float64"
      ]
     },
     "execution_count": 58,
     "metadata": {},
     "output_type": "execute_result"
    }
   ],
   "source": [
    "# Fraud Vs merch_long\n",
    "long_tran_total = data.sort_values('merch_long').groupby('merch_long').count()['is_fraud']\n",
    "long_tran_fraud = data[data.is_fraud == 1]['merch_long'].value_counts()\n",
    "fraud_perc = long_tran_fraud/ long_tran_total * 100\n",
    "fraud_perc.sort_values(ascending=False).head()"
   ]
  },
  {
   "cell_type": "markdown",
   "id": "8efe75d4-ed8f-4fcf-844e-f331119dd0a4",
   "metadata": {},
   "source": [
    "There are multiple demographies - Zip, City, States, Latitudes, Longitudes and Job types that have only Fraud transactions.\n",
    "Even though they have 100% frauds, the number of transactions is very low. For Example State DE had only 9 transactions in 2 years. Hence, it is very less likely to impact the model"
   ]
  },
  {
   "cell_type": "code",
   "execution_count": 59,
   "id": "1aa8ee60-eb88-42bd-bc75-e7ce7571f1a8",
   "metadata": {},
   "outputs": [
    {
     "data": {
      "text/html": [
       "<div>\n",
       "<style scoped>\n",
       "    .dataframe tbody tr th:only-of-type {\n",
       "        vertical-align: middle;\n",
       "    }\n",
       "\n",
       "    .dataframe tbody tr th {\n",
       "        vertical-align: top;\n",
       "    }\n",
       "\n",
       "    .dataframe thead th {\n",
       "        text-align: right;\n",
       "    }\n",
       "</style>\n",
       "<table border=\"1\" class=\"dataframe\">\n",
       "  <thead>\n",
       "    <tr style=\"text-align: right;\">\n",
       "      <th></th>\n",
       "      <th>merchant</th>\n",
       "      <th>category</th>\n",
       "      <th>amt</th>\n",
       "      <th>gender</th>\n",
       "      <th>city</th>\n",
       "      <th>state</th>\n",
       "      <th>zip</th>\n",
       "      <th>lat</th>\n",
       "      <th>long</th>\n",
       "      <th>city_pop</th>\n",
       "      <th>job</th>\n",
       "      <th>unix_time</th>\n",
       "      <th>merch_lat</th>\n",
       "      <th>merch_long</th>\n",
       "      <th>is_fraud</th>\n",
       "      <th>age</th>\n",
       "      <th>trans_date</th>\n",
       "      <th>trans_time</th>\n",
       "    </tr>\n",
       "  </thead>\n",
       "  <tbody>\n",
       "    <tr>\n",
       "      <th>0</th>\n",
       "      <td>514</td>\n",
       "      <td>8</td>\n",
       "      <td>4.97</td>\n",
       "      <td>0</td>\n",
       "      <td>526</td>\n",
       "      <td>27</td>\n",
       "      <td>28654</td>\n",
       "      <td>36.0788</td>\n",
       "      <td>-81.1781</td>\n",
       "      <td>3495</td>\n",
       "      <td>370</td>\n",
       "      <td>1325376018</td>\n",
       "      <td>36.011293</td>\n",
       "      <td>-82.048315</td>\n",
       "      <td>0</td>\n",
       "      <td>36</td>\n",
       "      <td>2019-01-01</td>\n",
       "      <td>00:00:18</td>\n",
       "    </tr>\n",
       "    <tr>\n",
       "      <th>1</th>\n",
       "      <td>241</td>\n",
       "      <td>4</td>\n",
       "      <td>107.23</td>\n",
       "      <td>0</td>\n",
       "      <td>612</td>\n",
       "      <td>47</td>\n",
       "      <td>99160</td>\n",
       "      <td>48.8878</td>\n",
       "      <td>-118.2105</td>\n",
       "      <td>149</td>\n",
       "      <td>428</td>\n",
       "      <td>1325376044</td>\n",
       "      <td>49.159047</td>\n",
       "      <td>-118.186462</td>\n",
       "      <td>0</td>\n",
       "      <td>46</td>\n",
       "      <td>2019-01-01</td>\n",
       "      <td>00:00:44</td>\n",
       "    </tr>\n",
       "  </tbody>\n",
       "</table>\n",
       "</div>"
      ],
      "text/plain": [
       "   merchant  category     amt  gender  city  state    zip      lat      long  \\\n",
       "0       514         8    4.97       0   526     27  28654  36.0788  -81.1781   \n",
       "1       241         4  107.23       0   612     47  99160  48.8878 -118.2105   \n",
       "\n",
       "   city_pop  job   unix_time  merch_lat  merch_long  is_fraud  age  \\\n",
       "0      3495  370  1325376018  36.011293  -82.048315         0   36   \n",
       "1       149  428  1325376044  49.159047 -118.186462         0   46   \n",
       "\n",
       "   trans_date trans_time  \n",
       "0  2019-01-01   00:00:18  \n",
       "1  2019-01-01   00:00:44  "
      ]
     },
     "execution_count": 59,
     "metadata": {},
     "output_type": "execute_result"
    }
   ],
   "source": [
    "data.head(2)"
   ]
  },
  {
   "cell_type": "code",
   "execution_count": 60,
   "id": "7e94d44c-17c1-40bb-8993-fd3a50925797",
   "metadata": {},
   "outputs": [
    {
     "name": "stdout",
     "output_type": "stream",
     "text": [
      "<class 'pandas.core.frame.DataFrame'>\n",
      "RangeIndex: 1296675 entries, 0 to 1296674\n",
      "Data columns (total 18 columns):\n",
      " #   Column      Non-Null Count    Dtype  \n",
      "---  ------      --------------    -----  \n",
      " 0   merchant    1296675 non-null  int32  \n",
      " 1   category    1296675 non-null  int32  \n",
      " 2   amt         1296675 non-null  float64\n",
      " 3   gender      1296675 non-null  int64  \n",
      " 4   city        1296675 non-null  int32  \n",
      " 5   state       1296675 non-null  int32  \n",
      " 6   zip         1296675 non-null  int64  \n",
      " 7   lat         1296675 non-null  float64\n",
      " 8   long        1296675 non-null  float64\n",
      " 9   city_pop    1296675 non-null  int64  \n",
      " 10  job         1296675 non-null  int32  \n",
      " 11  unix_time   1296675 non-null  int64  \n",
      " 12  merch_lat   1296675 non-null  float64\n",
      " 13  merch_long  1296675 non-null  float64\n",
      " 14  is_fraud    1296675 non-null  int64  \n",
      " 15  age         1296675 non-null  int32  \n",
      " 16  trans_date  1296675 non-null  object \n",
      " 17  trans_time  1296675 non-null  object \n",
      "dtypes: float64(5), int32(6), int64(5), object(2)\n",
      "memory usage: 148.4+ MB\n"
     ]
    }
   ],
   "source": [
    "data.info()"
   ]
  },
  {
   "cell_type": "code",
   "execution_count": 61,
   "id": "3ea29de6-a036-4a07-95ac-c6ae4ded9b11",
   "metadata": {},
   "outputs": [],
   "source": [
    "data['trans_date'] = pd.to_datetime(data['trans_date'])"
   ]
  },
  {
   "cell_type": "code",
   "execution_count": 62,
   "id": "231688cf-f724-4790-abd6-5a7ce41bdffe",
   "metadata": {},
   "outputs": [
    {
     "data": {
      "image/png": "[encoded data removed]",
      "text/plain": [
       "<Figure size 1500x500 with 1 Axes>"
      ]
     },
     "metadata": {},
     "output_type": "display_data"
    }
   ],
   "source": [
    "plt.figure(figsize=[15,5])\n",
    "data.groupby(['trans_date'])['is_fraud'].sum().plot()\n",
    "plt.show()"
   ]
  },
  {
   "cell_type": "code",
   "execution_count": 63,
   "id": "35f5d901-e2ea-4d6a-acd8-6e890db1e0ce",
   "metadata": {},
   "outputs": [
    {
     "data": {
      "image/png": "[encoded data removed]",
      "text/plain": [
       "<Figure size 2500x500 with 1 Axes>"
      ]
     },
     "metadata": {},
     "output_type": "display_data"
    }
   ],
   "source": [
    "# Fraud Vs trans_time\n",
    "import datetime as dt\n",
    "data.trans_date = data.trans_date.map(dt.datetime.toordinal)\n",
    "plt.figure(figsize=[25,5])\n",
    "plt.title('Transactions Spread throughout the Day', fontsize= 10, color = 'Red', fontweight = 100)\n",
    "data.groupby(['trans_time'])['is_fraud'].sum().plot()\n",
    "plt.show()"
   ]
  },
  {
   "cell_type": "markdown",
   "id": "a2e042cc-924d-4e00-84dd-b7dbb1ebd85d",
   "metadata": {},
   "source": [
    "So, late nights and early mornings are the most prone time for frauds. Highest frequency of frauds is between 10 pm to 12 am. 12 am to 4:00 am also shows very high frequency of fraud transactions."
   ]
  },
  {
   "cell_type": "code",
   "execution_count": 64,
   "id": "4c3f549f-f133-4424-b84f-6d5da14b8f46",
   "metadata": {},
   "outputs": [],
   "source": [
    "# Converting trans_time into seconds\n",
    "data.trans_time = pd.to_datetime(data.trans_time,format='%H:%M:%S')\n",
    "data.trans_time = 3600 * pd.DatetimeIndex(data.trans_time).hour + 60 * pd.DatetimeIndex(data.trans_time).minute + pd.DatetimeIndex(data.trans_time).second"
   ]
  },
  {
   "cell_type": "code",
   "execution_count": 65,
   "id": "9dbd90fd-247e-47b3-9748-a2d4de2147b8",
   "metadata": {},
   "outputs": [
    {
     "data": {
      "text/html": [
       "<div>\n",
       "<style scoped>\n",
       "    .dataframe tbody tr th:only-of-type {\n",
       "        vertical-align: middle;\n",
       "    }\n",
       "\n",
       "    .dataframe tbody tr th {\n",
       "        vertical-align: top;\n",
       "    }\n",
       "\n",
       "    .dataframe thead th {\n",
       "        text-align: right;\n",
       "    }\n",
       "</style>\n",
       "<table border=\"1\" class=\"dataframe\">\n",
       "  <thead>\n",
       "    <tr style=\"text-align: right;\">\n",
       "      <th></th>\n",
       "      <th>merchant</th>\n",
       "      <th>category</th>\n",
       "      <th>amt</th>\n",
       "      <th>gender</th>\n",
       "      <th>city</th>\n",
       "      <th>state</th>\n",
       "      <th>zip</th>\n",
       "      <th>lat</th>\n",
       "      <th>long</th>\n",
       "      <th>city_pop</th>\n",
       "      <th>job</th>\n",
       "      <th>unix_time</th>\n",
       "      <th>merch_lat</th>\n",
       "      <th>merch_long</th>\n",
       "      <th>is_fraud</th>\n",
       "      <th>age</th>\n",
       "      <th>trans_date</th>\n",
       "      <th>trans_time</th>\n",
       "    </tr>\n",
       "  </thead>\n",
       "  <tbody>\n",
       "    <tr>\n",
       "      <th>0</th>\n",
       "      <td>514</td>\n",
       "      <td>8</td>\n",
       "      <td>4.97</td>\n",
       "      <td>0</td>\n",
       "      <td>526</td>\n",
       "      <td>27</td>\n",
       "      <td>28654</td>\n",
       "      <td>36.0788</td>\n",
       "      <td>-81.1781</td>\n",
       "      <td>3495</td>\n",
       "      <td>370</td>\n",
       "      <td>1325376018</td>\n",
       "      <td>36.011293</td>\n",
       "      <td>-82.048315</td>\n",
       "      <td>0</td>\n",
       "      <td>36</td>\n",
       "      <td>737060</td>\n",
       "      <td>18</td>\n",
       "    </tr>\n",
       "    <tr>\n",
       "      <th>1</th>\n",
       "      <td>241</td>\n",
       "      <td>4</td>\n",
       "      <td>107.23</td>\n",
       "      <td>0</td>\n",
       "      <td>612</td>\n",
       "      <td>47</td>\n",
       "      <td>99160</td>\n",
       "      <td>48.8878</td>\n",
       "      <td>-118.2105</td>\n",
       "      <td>149</td>\n",
       "      <td>428</td>\n",
       "      <td>1325376044</td>\n",
       "      <td>49.159047</td>\n",
       "      <td>-118.186462</td>\n",
       "      <td>0</td>\n",
       "      <td>46</td>\n",
       "      <td>737060</td>\n",
       "      <td>44</td>\n",
       "    </tr>\n",
       "    <tr>\n",
       "      <th>2</th>\n",
       "      <td>390</td>\n",
       "      <td>0</td>\n",
       "      <td>220.11</td>\n",
       "      <td>1</td>\n",
       "      <td>468</td>\n",
       "      <td>13</td>\n",
       "      <td>83252</td>\n",
       "      <td>42.1808</td>\n",
       "      <td>-112.2620</td>\n",
       "      <td>4154</td>\n",
       "      <td>307</td>\n",
       "      <td>1325376051</td>\n",
       "      <td>43.150704</td>\n",
       "      <td>-112.154481</td>\n",
       "      <td>0</td>\n",
       "      <td>62</td>\n",
       "      <td>737060</td>\n",
       "      <td>51</td>\n",
       "    </tr>\n",
       "    <tr>\n",
       "      <th>3</th>\n",
       "      <td>360</td>\n",
       "      <td>2</td>\n",
       "      <td>45.00</td>\n",
       "      <td>1</td>\n",
       "      <td>84</td>\n",
       "      <td>26</td>\n",
       "      <td>59632</td>\n",
       "      <td>46.2306</td>\n",
       "      <td>-112.1138</td>\n",
       "      <td>1939</td>\n",
       "      <td>328</td>\n",
       "      <td>1325376076</td>\n",
       "      <td>47.034331</td>\n",
       "      <td>-112.561071</td>\n",
       "      <td>0</td>\n",
       "      <td>57</td>\n",
       "      <td>737060</td>\n",
       "      <td>76</td>\n",
       "    </tr>\n",
       "    <tr>\n",
       "      <th>4</th>\n",
       "      <td>297</td>\n",
       "      <td>9</td>\n",
       "      <td>41.96</td>\n",
       "      <td>1</td>\n",
       "      <td>216</td>\n",
       "      <td>45</td>\n",
       "      <td>24433</td>\n",
       "      <td>38.4207</td>\n",
       "      <td>-79.4629</td>\n",
       "      <td>99</td>\n",
       "      <td>116</td>\n",
       "      <td>1325376186</td>\n",
       "      <td>38.674999</td>\n",
       "      <td>-78.632459</td>\n",
       "      <td>0</td>\n",
       "      <td>38</td>\n",
       "      <td>737060</td>\n",
       "      <td>186</td>\n",
       "    </tr>\n",
       "  </tbody>\n",
       "</table>\n",
       "</div>"
      ],
      "text/plain": [
       "   merchant  category     amt  gender  city  state    zip      lat      long  \\\n",
       "0       514         8    4.97       0   526     27  28654  36.0788  -81.1781   \n",
       "1       241         4  107.23       0   612     47  99160  48.8878 -118.2105   \n",
       "2       390         0  220.11       1   468     13  83252  42.1808 -112.2620   \n",
       "3       360         2   45.00       1    84     26  59632  46.2306 -112.1138   \n",
       "4       297         9   41.96       1   216     45  24433  38.4207  -79.4629   \n",
       "\n",
       "   city_pop  job   unix_time  merch_lat  merch_long  is_fraud  age  \\\n",
       "0      3495  370  1325376018  36.011293  -82.048315         0   36   \n",
       "1       149  428  1325376044  49.159047 -118.186462         0   46   \n",
       "2      4154  307  1325376051  43.150704 -112.154481         0   62   \n",
       "3      1939  328  1325376076  47.034331 -112.561071         0   57   \n",
       "4        99  116  1325376186  38.674999  -78.632459         0   38   \n",
       "\n",
       "   trans_date  trans_time  \n",
       "0      737060          18  \n",
       "1      737060          44  \n",
       "2      737060          51  \n",
       "3      737060          76  \n",
       "4      737060         186  "
      ]
     },
     "execution_count": 65,
     "metadata": {},
     "output_type": "execute_result"
    }
   ],
   "source": [
    "data.head()"
   ]
  },
  {
   "cell_type": "code",
   "execution_count": 66,
   "id": "a86797c0-4eaf-4a32-8811-9a95371a70c3",
   "metadata": {},
   "outputs": [],
   "source": [
    "# Similar date-time changes in test dataset\n",
    "df_test['trans_date'] =  pd.to_datetime(df_test['trans_date'])\n",
    "df_test.trans_date = df_test.trans_date.map(dt.datetime.toordinal)\n",
    "df_test.trans_time = pd.to_datetime(df_test.trans_time,format='%H:%M:%S')\n",
    "df_test.trans_time = 3600 * pd.DatetimeIndex(df_test.trans_time).hour + 60 * pd.DatetimeIndex(df_test.trans_time).minute + pd.DatetimeIndex(df_test.trans_time).second"
   ]
  },
  {
   "cell_type": "code",
   "execution_count": 67,
   "id": "7288312a-ecd6-4017-93ca-e5b7c0d35d9b",
   "metadata": {},
   "outputs": [
    {
     "data": {
      "text/html": [
       "<div>\n",
       "<style scoped>\n",
       "    .dataframe tbody tr th:only-of-type {\n",
       "        vertical-align: middle;\n",
       "    }\n",
       "\n",
       "    .dataframe tbody tr th {\n",
       "        vertical-align: top;\n",
       "    }\n",
       "\n",
       "    .dataframe thead th {\n",
       "        text-align: right;\n",
       "    }\n",
       "</style>\n",
       "<table border=\"1\" class=\"dataframe\">\n",
       "  <thead>\n",
       "    <tr style=\"text-align: right;\">\n",
       "      <th></th>\n",
       "      <th>merchant</th>\n",
       "      <th>category</th>\n",
       "      <th>amt</th>\n",
       "      <th>gender</th>\n",
       "      <th>city</th>\n",
       "      <th>state</th>\n",
       "      <th>zip</th>\n",
       "      <th>lat</th>\n",
       "      <th>long</th>\n",
       "      <th>city_pop</th>\n",
       "      <th>job</th>\n",
       "      <th>unix_time</th>\n",
       "      <th>merch_lat</th>\n",
       "      <th>merch_long</th>\n",
       "      <th>is_fraud</th>\n",
       "      <th>age</th>\n",
       "      <th>trans_date</th>\n",
       "      <th>trans_time</th>\n",
       "    </tr>\n",
       "  </thead>\n",
       "  <tbody>\n",
       "    <tr>\n",
       "      <th>0</th>\n",
       "      <td>514</td>\n",
       "      <td>8</td>\n",
       "      <td>4.97</td>\n",
       "      <td>0</td>\n",
       "      <td>526</td>\n",
       "      <td>27</td>\n",
       "      <td>28654</td>\n",
       "      <td>36.0788</td>\n",
       "      <td>-81.1781</td>\n",
       "      <td>3495</td>\n",
       "      <td>370</td>\n",
       "      <td>1325376018</td>\n",
       "      <td>36.011293</td>\n",
       "      <td>-82.048315</td>\n",
       "      <td>0</td>\n",
       "      <td>36</td>\n",
       "      <td>737060</td>\n",
       "      <td>18</td>\n",
       "    </tr>\n",
       "    <tr>\n",
       "      <th>1</th>\n",
       "      <td>241</td>\n",
       "      <td>4</td>\n",
       "      <td>107.23</td>\n",
       "      <td>0</td>\n",
       "      <td>612</td>\n",
       "      <td>47</td>\n",
       "      <td>99160</td>\n",
       "      <td>48.8878</td>\n",
       "      <td>-118.2105</td>\n",
       "      <td>149</td>\n",
       "      <td>428</td>\n",
       "      <td>1325376044</td>\n",
       "      <td>49.159047</td>\n",
       "      <td>-118.186462</td>\n",
       "      <td>0</td>\n",
       "      <td>46</td>\n",
       "      <td>737060</td>\n",
       "      <td>44</td>\n",
       "    </tr>\n",
       "    <tr>\n",
       "      <th>2</th>\n",
       "      <td>390</td>\n",
       "      <td>0</td>\n",
       "      <td>220.11</td>\n",
       "      <td>1</td>\n",
       "      <td>468</td>\n",
       "      <td>13</td>\n",
       "      <td>83252</td>\n",
       "      <td>42.1808</td>\n",
       "      <td>-112.2620</td>\n",
       "      <td>4154</td>\n",
       "      <td>307</td>\n",
       "      <td>1325376051</td>\n",
       "      <td>43.150704</td>\n",
       "      <td>-112.154481</td>\n",
       "      <td>0</td>\n",
       "      <td>62</td>\n",
       "      <td>737060</td>\n",
       "      <td>51</td>\n",
       "    </tr>\n",
       "    <tr>\n",
       "      <th>3</th>\n",
       "      <td>360</td>\n",
       "      <td>2</td>\n",
       "      <td>45.00</td>\n",
       "      <td>1</td>\n",
       "      <td>84</td>\n",
       "      <td>26</td>\n",
       "      <td>59632</td>\n",
       "      <td>46.2306</td>\n",
       "      <td>-112.1138</td>\n",
       "      <td>1939</td>\n",
       "      <td>328</td>\n",
       "      <td>1325376076</td>\n",
       "      <td>47.034331</td>\n",
       "      <td>-112.561071</td>\n",
       "      <td>0</td>\n",
       "      <td>57</td>\n",
       "      <td>737060</td>\n",
       "      <td>76</td>\n",
       "    </tr>\n",
       "    <tr>\n",
       "      <th>4</th>\n",
       "      <td>297</td>\n",
       "      <td>9</td>\n",
       "      <td>41.96</td>\n",
       "      <td>1</td>\n",
       "      <td>216</td>\n",
       "      <td>45</td>\n",
       "      <td>24433</td>\n",
       "      <td>38.4207</td>\n",
       "      <td>-79.4629</td>\n",
       "      <td>99</td>\n",
       "      <td>116</td>\n",
       "      <td>1325376186</td>\n",
       "      <td>38.674999</td>\n",
       "      <td>-78.632459</td>\n",
       "      <td>0</td>\n",
       "      <td>38</td>\n",
       "      <td>737060</td>\n",
       "      <td>186</td>\n",
       "    </tr>\n",
       "  </tbody>\n",
       "</table>\n",
       "</div>"
      ],
      "text/plain": [
       "   merchant  category     amt  gender  city  state    zip      lat      long  \\\n",
       "0       514         8    4.97       0   526     27  28654  36.0788  -81.1781   \n",
       "1       241         4  107.23       0   612     47  99160  48.8878 -118.2105   \n",
       "2       390         0  220.11       1   468     13  83252  42.1808 -112.2620   \n",
       "3       360         2   45.00       1    84     26  59632  46.2306 -112.1138   \n",
       "4       297         9   41.96       1   216     45  24433  38.4207  -79.4629   \n",
       "\n",
       "   city_pop  job   unix_time  merch_lat  merch_long  is_fraud  age  \\\n",
       "0      3495  370  1325376018  36.011293  -82.048315         0   36   \n",
       "1       149  428  1325376044  49.159047 -118.186462         0   46   \n",
       "2      4154  307  1325376051  43.150704 -112.154481         0   62   \n",
       "3      1939  328  1325376076  47.034331 -112.561071         0   57   \n",
       "4        99  116  1325376186  38.674999  -78.632459         0   38   \n",
       "\n",
       "   trans_date  trans_time  \n",
       "0      737060          18  \n",
       "1      737060          44  \n",
       "2      737060          51  \n",
       "3      737060          76  \n",
       "4      737060         186  "
      ]
     },
     "execution_count": 67,
     "metadata": {},
     "output_type": "execute_result"
    }
   ],
   "source": [
    "data.head()"
   ]
  },
  {
   "cell_type": "markdown",
   "id": "acbcabb8-4710-4843-b624-3952adf000f4",
   "metadata": {},
   "source": [
    "## Model Building"
   ]
  },
  {
   "cell_type": "code",
   "execution_count": 68,
   "id": "c5ef729e-2453-4fd7-afb0-cc65b4acb9e9",
   "metadata": {},
   "outputs": [
    {
     "name": "stdout",
     "output_type": "stream",
     "text": [
      "X shape:(1296675, 17)\n",
      "y shape:(1296675,)\n"
     ]
    }
   ],
   "source": [
    "features = ['merchant', 'category', 'amt', 'gender', 'city', 'state', 'zip', 'lat',\n",
    "       'long', 'city_pop', 'job', 'unix_time', 'merch_lat', 'merch_long',\n",
    "        'age', 'trans_date', 'trans_time']\n",
    "\n",
    "\n",
    "# X = df_train[features].set_index(\"transaction_id\")\n",
    "X = data[features]\n",
    "y = data['is_fraud']\n",
    "\n",
    "print('X shape:{}\\ny shape:{}'.format(X.shape,y.shape))"
   ]
  },
  {
   "cell_type": "code",
   "execution_count": 69,
   "id": "6f792c17-1827-422c-b035-14a4b01acf7c",
   "metadata": {},
   "outputs": [
    {
     "data": {
      "image/png": "[encoded data removed]",
      "text/plain": [
       "<Figure size 1500x800 with 4 Axes>"
      ]
     },
     "metadata": {},
     "output_type": "display_data"
    }
   ],
   "source": [
    "# Check distribution of few variables\n",
    "plt.figure(figsize=[15,8])\n",
    "plt.subplot(2,2,1)\n",
    "plt.title('Distribution of Amount', fontsize= 10, color = 'Red', fontweight = 100)\n",
    "plt.hist(X.amt)\n",
    "plt.subplot(2,2,2)\n",
    "plt.title('Distribution of Age', fontsize= 10, color = 'Red', fontweight = 100)\n",
    "plt.hist(X.age)\n",
    "plt.subplot(2,2,3)\n",
    "plt.title('Distribution of Zip', fontsize= 10, color = 'Red', fontweight = 100)\n",
    "plt.hist(X.zip)\n",
    "plt.subplot(2,2,4)\n",
    "plt.title('Distribution of trans_date', fontsize= 10, color = 'Red', fontweight = 100)\n",
    "plt.hist(X.trans_date)\n",
    "plt.show()"
   ]
  },
  {
   "cell_type": "code",
   "execution_count": 70,
   "id": "62d40c3b-0eb9-4e20-a2d0-837eca1646d2",
   "metadata": {},
   "outputs": [],
   "source": [
    "from sklearn.model_selection import train_test_split"
   ]
  },
  {
   "cell_type": "code",
   "execution_count": 71,
   "id": "d8b3f9a2-83fa-4722-af83-80eb68a26985",
   "metadata": {},
   "outputs": [],
   "source": [
    "# Lets try various scalers available in Scikit library. At optimum time, will finalize one.\n",
    "# Based on various test results, QuantileTransformer with Gaussian distribution seems best suited.\n",
    "from sklearn.preprocessing import MinMaxScaler\n",
    "from sklearn.preprocessing import StandardScaler\n",
    "from sklearn.preprocessing import PowerTransformer\n",
    "from sklearn.preprocessing import QuantileTransformer\n",
    "from sklearn.preprocessing import RobustScaler\n",
    "# scaler = MinMaxScaler()\n",
    "#scaler = StandardScaler()\n",
    "#scaler = PowerTransformer()\n",
    "scaler = QuantileTransformer(output_distribution='normal')\n",
    "#scaler = RobustScaler()"
   ]
  },
  {
   "cell_type": "code",
   "execution_count": 72,
   "id": "12977cba-47ed-4902-9b0b-c09375183a0f",
   "metadata": {},
   "outputs": [],
   "source": [
    "X = scaler.fit_transform(X)"
   ]
  },
  {
   "cell_type": "code",
   "execution_count": 73,
   "id": "15b33f21-f6cc-49d8-8614-b6320573e483",
   "metadata": {},
   "outputs": [],
   "source": [
    "X_train, X_test, y_train, y_test = train_test_split(X, y, test_size=0.2, stratify=y)"
   ]
  },
  {
   "cell_type": "code",
   "execution_count": 74,
   "id": "350c2fad-aa6c-487e-95d6-d4f95a9d6174",
   "metadata": {},
   "outputs": [],
   "source": [
    "from sklearn.tree import DecisionTreeClassifier\n",
    "from sklearn.linear_model import LogisticRegression\n",
    "from sklearn.svm import SVC\n",
    "from sklearn.ensemble import RandomForestClassifier\n",
    "from sklearn.naive_bayes import GaussianNB, BernoulliNB\n",
    "from sklearn.metrics import accuracy_score, confusion_matrix, precision_score"
   ]
  },
  {
   "cell_type": "code",
   "execution_count": 75,
   "id": "14848400-d99a-4392-bc60-cd60721cb6b4",
   "metadata": {},
   "outputs": [],
   "source": [
    "dcstree = DecisionTreeClassifier(random_state=42)\n",
    "dcstree.fit(X_train, y_train)\n",
    "y_pred = dcstree.predict(X_test)"
   ]
  },
  {
   "cell_type": "code",
   "execution_count": 76,
   "id": "4be18992-3c44-45b4-b5ad-6a61dab42bd8",
   "metadata": {},
   "outputs": [
    {
     "data": {
      "text/plain": [
       "<Axes: >"
      ]
     },
     "execution_count": 76,
     "metadata": {},
     "output_type": "execute_result"
    },
    {
     "data": {
      "image/png": "[encoded data removed]",
      "text/plain": [
       "<Figure size 800x600 with 2 Axes>"
      ]
     },
     "metadata": {},
     "output_type": "display_data"
    }
   ],
   "source": [
    "fig = plt.figure(figsize=(8,6))\n",
    "cfs_matrix = confusion_matrix(y_test, y_pred)\n",
    "sns.heatmap(cfs_matrix, cmap='viridis', annot=True, fmt='d', annot_kws=dict(fontsize=14))"
   ]
  },
  {
   "cell_type": "code",
   "execution_count": 77,
   "id": "c6fc698e-cd36-43d7-87bb-a5527c34a081",
   "metadata": {},
   "outputs": [
    {
     "name": "stdout",
     "output_type": "stream",
     "text": [
      "accuracy = 0.9978406308442748\n",
      "precision = 0.8122096881220969\n"
     ]
    }
   ],
   "source": [
    "accuracy = accuracy_score(y_test, y_pred)\n",
    "precision = precision_score(y_test, y_pred) \n",
    "print(\"accuracy =\",accuracy)\n",
    "print(\"precision =\",precision)"
   ]
  },
  {
   "cell_type": "code",
   "execution_count": 78,
   "id": "46fbc3c9-1fde-4e15-abe2-ef66cd7ffc9c",
   "metadata": {},
   "outputs": [],
   "source": [
    "rf_random = RandomForestClassifier(max_features='sqrt', n_estimators=100, random_state=41, n_jobs=-1)\n",
    "rf_random.fit(X_train, y_train)\n",
    "y_pred = rf_random.predict(X_test)"
   ]
  },
  {
   "cell_type": "code",
   "execution_count": 79,
   "id": "33459a36-038c-4abb-8bae-30fdd3207d04",
   "metadata": {},
   "outputs": [
    {
     "name": "stdout",
     "output_type": "stream",
     "text": [
      "accuracy = 0.9984383133784487\n",
      "precision = 0.9732297063903281\n"
     ]
    }
   ],
   "source": [
    "accuracy = accuracy_score(y_test, y_pred)\n",
    "precision = precision_score(y_test, y_pred) \n",
    "print(\"accuracy =\",accuracy)\n",
    "print(\"precision =\",precision)"
   ]
  },
  {
   "cell_type": "markdown",
   "id": "9ef817c7-d436-49f8-8a89-b25f8a5f9adb",
   "metadata": {},
   "source": [
    "__Test Data Prediction__\n",
    "\r\n"
   ]
  },
  {
   "cell_type": "code",
   "execution_count": 80,
   "id": "c943c967-cb9a-4dd2-9d52-f5891899742b",
   "metadata": {},
   "outputs": [],
   "source": [
    "scaled_test = scaler.fit_transform(df_test)"
   ]
  },
  {
   "cell_type": "code",
   "execution_count": 81,
   "id": "e264bbda-3d5a-4b51-97f7-eadeb98ed613",
   "metadata": {},
   "outputs": [],
   "source": [
    "fraud_test = pd.DataFrame(scaled_test, columns=df_test.columns)\n",
    "\n",
    "\n",
    "features = ['merchant', 'category', 'amt', 'gender', 'city', 'state', 'zip', 'lat',\n",
    "       'long', 'city_pop', 'job', 'unix_time', 'merch_lat', 'merch_long',\n",
    "        'age', 'trans_date', 'trans_time']\n",
    "\n",
    "#\n",
    "# X = df_train[features].set_index(\"transaction_id\")\n",
    "fraud_test = fraud_test[features]"
   ]
  },
  {
   "cell_type": "code",
   "execution_count": 82,
   "id": "9ff2e5d5-9762-413f-b2f8-1ad7a6d5baad",
   "metadata": {},
   "outputs": [
    {
     "data": {
      "text/html": [
       "<div>\n",
       "<style scoped>\n",
       "    .dataframe tbody tr th:only-of-type {\n",
       "        vertical-align: middle;\n",
       "    }\n",
       "\n",
       "    .dataframe tbody tr th {\n",
       "        vertical-align: top;\n",
       "    }\n",
       "\n",
       "    .dataframe thead th {\n",
       "        text-align: right;\n",
       "    }\n",
       "</style>\n",
       "<table border=\"1\" class=\"dataframe\">\n",
       "  <thead>\n",
       "    <tr style=\"text-align: right;\">\n",
       "      <th></th>\n",
       "      <th>merchant</th>\n",
       "      <th>category</th>\n",
       "      <th>amt</th>\n",
       "      <th>gender</th>\n",
       "      <th>city</th>\n",
       "      <th>state</th>\n",
       "      <th>zip</th>\n",
       "      <th>lat</th>\n",
       "      <th>long</th>\n",
       "      <th>city_pop</th>\n",
       "      <th>job</th>\n",
       "      <th>unix_time</th>\n",
       "      <th>merch_lat</th>\n",
       "      <th>merch_long</th>\n",
       "      <th>age</th>\n",
       "      <th>trans_date</th>\n",
       "      <th>trans_time</th>\n",
       "    </tr>\n",
       "  </thead>\n",
       "  <tbody>\n",
       "    <tr>\n",
       "      <th>0</th>\n",
       "      <td>-0.080379</td>\n",
       "      <td>0.724973</td>\n",
       "      <td>-1.520761</td>\n",
       "      <td>5.199338</td>\n",
       "      <td>-0.880888</td>\n",
       "      <td>0.783330</td>\n",
       "      <td>-0.583787</td>\n",
       "      <td>-0.805692</td>\n",
       "      <td>0.595437</td>\n",
       "      <td>1.513589</td>\n",
       "      <td>0.194422</td>\n",
       "      <td>-5.199338</td>\n",
       "      <td>-0.808751</td>\n",
       "      <td>0.574901</td>\n",
       "      <td>0.464007</td>\n",
       "      <td>-5.199338</td>\n",
       "      <td>-0.222587</td>\n",
       "    </tr>\n",
       "    <tr>\n",
       "      <th>1</th>\n",
       "      <td>1.084195</td>\n",
       "      <td>0.724973</td>\n",
       "      <td>-0.293440</td>\n",
       "      <td>-5.199338</td>\n",
       "      <td>-2.096521</td>\n",
       "      <td>1.252988</td>\n",
       "      <td>1.228607</td>\n",
       "      <td>0.193143</td>\n",
       "      <td>-1.239352</td>\n",
       "      <td>-1.199766</td>\n",
       "      <td>0.871679</td>\n",
       "      <td>-5.199338</td>\n",
       "      <td>0.003093</td>\n",
       "      <td>-1.237806</td>\n",
       "      <td>-0.895780</td>\n",
       "      <td>-5.199338</td>\n",
       "      <td>-0.222002</td>\n",
       "    </tr>\n",
       "    <tr>\n",
       "      <th>2</th>\n",
       "      <td>1.228607</td>\n",
       "      <td>-0.241963</td>\n",
       "      <td>-0.111286</td>\n",
       "      <td>-5.199338</td>\n",
       "      <td>-1.471555</td>\n",
       "      <td>0.269184</td>\n",
       "      <td>-1.435477</td>\n",
       "      <td>0.288750</td>\n",
       "      <td>1.629992</td>\n",
       "      <td>0.795322</td>\n",
       "      <td>0.105580</td>\n",
       "      <td>-5.199338</td>\n",
       "      <td>0.257332</td>\n",
       "      <td>1.476501</td>\n",
       "      <td>0.338834</td>\n",
       "      <td>-5.199338</td>\n",
       "      <td>-0.221000</td>\n",
       "    </tr>\n",
       "    <tr>\n",
       "      <th>3</th>\n",
       "      <td>-0.436240</td>\n",
       "      <td>0.519225</td>\n",
       "      <td>0.220611</td>\n",
       "      <td>5.199338</td>\n",
       "      <td>1.286702</td>\n",
       "      <td>-1.053106</td>\n",
       "      <td>-0.468203</td>\n",
       "      <td>-1.824556</td>\n",
       "      <td>0.605955</td>\n",
       "      <td>0.910873</td>\n",
       "      <td>1.023003</td>\n",
       "      <td>-5.199338</td>\n",
       "      <td>-1.824796</td>\n",
       "      <td>0.615214</td>\n",
       "      <td>-0.739737</td>\n",
       "      <td>-5.199338</td>\n",
       "      <td>-0.220312</td>\n",
       "    </tr>\n",
       "    <tr>\n",
       "      <th>4</th>\n",
       "      <td>-0.180377</td>\n",
       "      <td>5.199338</td>\n",
       "      <td>-1.452226</td>\n",
       "      <td>5.199338</td>\n",
       "      <td>-0.555462</td>\n",
       "      <td>-0.300542</td>\n",
       "      <td>0.041413</td>\n",
       "      <td>1.233962</td>\n",
       "      <td>0.198258</td>\n",
       "      <td>-0.493553</td>\n",
       "      <td>-0.229064</td>\n",
       "      <td>-5.199338</td>\n",
       "      <td>1.395509</td>\n",
       "      <td>0.141859</td>\n",
       "      <td>0.973449</td>\n",
       "      <td>-5.199338</td>\n",
       "      <td>-0.220250</td>\n",
       "    </tr>\n",
       "    <tr>\n",
       "      <th>...</th>\n",
       "      <td>...</td>\n",
       "      <td>...</td>\n",
       "      <td>...</td>\n",
       "      <td>...</td>\n",
       "      <td>...</td>\n",
       "      <td>...</td>\n",
       "      <td>...</td>\n",
       "      <td>...</td>\n",
       "      <td>...</td>\n",
       "      <td>...</td>\n",
       "      <td>...</td>\n",
       "      <td>...</td>\n",
       "      <td>...</td>\n",
       "      <td>...</td>\n",
       "      <td>...</td>\n",
       "      <td>...</td>\n",
       "      <td>...</td>\n",
       "    </tr>\n",
       "    <tr>\n",
       "      <th>555714</th>\n",
       "      <td>0.654930</td>\n",
       "      <td>-0.241963</td>\n",
       "      <td>-0.070256</td>\n",
       "      <td>5.199338</td>\n",
       "      <td>0.066541</td>\n",
       "      <td>-0.160010</td>\n",
       "      <td>0.430727</td>\n",
       "      <td>0.239380</td>\n",
       "      <td>-0.299230</td>\n",
       "      <td>-0.914679</td>\n",
       "      <td>1.733071</td>\n",
       "      <td>5.199338</td>\n",
       "      <td>0.117707</td>\n",
       "      <td>-0.257447</td>\n",
       "      <td>0.558392</td>\n",
       "      <td>5.199338</td>\n",
       "      <td>3.268906</td>\n",
       "    </tr>\n",
       "    <tr>\n",
       "      <th>555715</th>\n",
       "      <td>-0.280911</td>\n",
       "      <td>0.188033</td>\n",
       "      <td>1.048621</td>\n",
       "      <td>5.199338</td>\n",
       "      <td>-0.056486</td>\n",
       "      <td>1.053106</td>\n",
       "      <td>0.983573</td>\n",
       "      <td>-1.756055</td>\n",
       "      <td>-0.553999</td>\n",
       "      <td>0.738089</td>\n",
       "      <td>-0.212353</td>\n",
       "      <td>5.199338</td>\n",
       "      <td>-1.684683</td>\n",
       "      <td>-0.599678</td>\n",
       "      <td>-1.951050</td>\n",
       "      <td>5.199338</td>\n",
       "      <td>3.281191</td>\n",
       "    </tr>\n",
       "    <tr>\n",
       "      <th>555716</th>\n",
       "      <td>0.604448</td>\n",
       "      <td>0.188033</td>\n",
       "      <td>0.713773</td>\n",
       "      <td>-5.199338</td>\n",
       "      <td>-1.144896</td>\n",
       "      <td>1.517545</td>\n",
       "      <td>2.806711</td>\n",
       "      <td>1.705570</td>\n",
       "      <td>-1.625274</td>\n",
       "      <td>0.106841</td>\n",
       "      <td>0.295296</td>\n",
       "      <td>5.199338</td>\n",
       "      <td>1.784132</td>\n",
       "      <td>-1.673793</td>\n",
       "      <td>-0.333524</td>\n",
       "      <td>5.199338</td>\n",
       "      <td>3.321337</td>\n",
       "    </tr>\n",
       "    <tr>\n",
       "      <th>555717</th>\n",
       "      <td>-1.199766</td>\n",
       "      <td>5.199338</td>\n",
       "      <td>-0.828987</td>\n",
       "      <td>5.199338</td>\n",
       "      <td>0.168912</td>\n",
       "      <td>-0.807429</td>\n",
       "      <td>1.207532</td>\n",
       "      <td>1.349498</td>\n",
       "      <td>-1.407905</td>\n",
       "      <td>-1.733071</td>\n",
       "      <td>-1.252988</td>\n",
       "      <td>5.199338</td>\n",
       "      <td>1.275963</td>\n",
       "      <td>-1.448697</td>\n",
       "      <td>0.558392</td>\n",
       "      <td>5.199338</td>\n",
       "      <td>3.393867</td>\n",
       "    </tr>\n",
       "    <tr>\n",
       "      <th>555718</th>\n",
       "      <td>-0.853480</td>\n",
       "      <td>-5.199338</td>\n",
       "      <td>-0.161493</td>\n",
       "      <td>5.199338</td>\n",
       "      <td>-0.634851</td>\n",
       "      <td>0.478025</td>\n",
       "      <td>0.749670</td>\n",
       "      <td>-0.553999</td>\n",
       "      <td>-0.733156</td>\n",
       "      <td>1.123415</td>\n",
       "      <td>0.202098</td>\n",
       "      <td>5.199338</td>\n",
       "      <td>-0.496550</td>\n",
       "      <td>-0.680332</td>\n",
       "      <td>-1.123415</td>\n",
       "      <td>5.199338</td>\n",
       "      <td>3.503364</td>\n",
       "    </tr>\n",
       "  </tbody>\n",
       "</table>\n",
       "<p>555719 rows × 17 columns</p>\n",
       "</div>"
      ],
      "text/plain": [
       "        merchant  category       amt    gender      city     state       zip  \\\n",
       "0      -0.080379  0.724973 -1.520761  5.199338 -0.880888  0.783330 -0.583787   \n",
       "1       1.084195  0.724973 -0.293440 -5.199338 -2.096521  1.252988  1.228607   \n",
       "2       1.228607 -0.241963 -0.111286 -5.199338 -1.471555  0.269184 -1.435477   \n",
       "3      -0.436240  0.519225  0.220611  5.199338  1.286702 -1.053106 -0.468203   \n",
       "4      -0.180377  5.199338 -1.452226  5.199338 -0.555462 -0.300542  0.041413   \n",
       "...          ...       ...       ...       ...       ...       ...       ...   \n",
       "555714  0.654930 -0.241963 -0.070256  5.199338  0.066541 -0.160010  0.430727   \n",
       "555715 -0.280911  0.188033  1.048621  5.199338 -0.056486  1.053106  0.983573   \n",
       "555716  0.604448  0.188033  0.713773 -5.199338 -1.144896  1.517545  2.806711   \n",
       "555717 -1.199766  5.199338 -0.828987  5.199338  0.168912 -0.807429  1.207532   \n",
       "555718 -0.853480 -5.199338 -0.161493  5.199338 -0.634851  0.478025  0.749670   \n",
       "\n",
       "             lat      long  city_pop       job  unix_time  merch_lat  \\\n",
       "0      -0.805692  0.595437  1.513589  0.194422  -5.199338  -0.808751   \n",
       "1       0.193143 -1.239352 -1.199766  0.871679  -5.199338   0.003093   \n",
       "2       0.288750  1.629992  0.795322  0.105580  -5.199338   0.257332   \n",
       "3      -1.824556  0.605955  0.910873  1.023003  -5.199338  -1.824796   \n",
       "4       1.233962  0.198258 -0.493553 -0.229064  -5.199338   1.395509   \n",
       "...          ...       ...       ...       ...        ...        ...   \n",
       "555714  0.239380 -0.299230 -0.914679  1.733071   5.199338   0.117707   \n",
       "555715 -1.756055 -0.553999  0.738089 -0.212353   5.199338  -1.684683   \n",
       "555716  1.705570 -1.625274  0.106841  0.295296   5.199338   1.784132   \n",
       "555717  1.349498 -1.407905 -1.733071 -1.252988   5.199338   1.275963   \n",
       "555718 -0.553999 -0.733156  1.123415  0.202098   5.199338  -0.496550   \n",
       "\n",
       "        merch_long       age  trans_date  trans_time  \n",
       "0         0.574901  0.464007   -5.199338   -0.222587  \n",
       "1        -1.237806 -0.895780   -5.199338   -0.222002  \n",
       "2         1.476501  0.338834   -5.199338   -0.221000  \n",
       "3         0.615214 -0.739737   -5.199338   -0.220312  \n",
       "4         0.141859  0.973449   -5.199338   -0.220250  \n",
       "...            ...       ...         ...         ...  \n",
       "555714   -0.257447  0.558392    5.199338    3.268906  \n",
       "555715   -0.599678 -1.951050    5.199338    3.281191  \n",
       "555716   -1.673793 -0.333524    5.199338    3.321337  \n",
       "555717   -1.448697  0.558392    5.199338    3.393867  \n",
       "555718   -0.680332 -1.123415    5.199338    3.503364  \n",
       "\n",
       "[555719 rows x 17 columns]"
      ]
     },
     "execution_count": 82,
     "metadata": {},
     "output_type": "execute_result"
    }
   ],
   "source": [
    "fraud_test"
   ]
  },
  {
   "cell_type": "code",
   "execution_count": 83,
   "id": "13810177-d4e5-4794-8317-b6ca9b7e211b",
   "metadata": {},
   "outputs": [
    {
     "name": "stderr",
     "output_type": "stream",
     "text": [
      "C:\\Users\\shiva\\AppData\\Local\\Programs\\Python\\Python312\\Lib\\site-packages\\sklearn\\base.py:486: UserWarning: X has feature names, but RandomForestClassifier was fitted without feature names\n",
      "  warnings.warn(\n",
      "C:\\Users\\shiva\\AppData\\Local\\Programs\\Python\\Python312\\Lib\\site-packages\\sklearn\\base.py:486: UserWarning: X has feature names, but RandomForestClassifier was fitted without feature names\n",
      "  warnings.warn(\n"
     ]
    }
   ],
   "source": [
    "y_pred  = rf_random.predict(fraud_test)\n",
    "y_proba = rf_random.predict_proba(fraud_test)[:, 1]"
   ]
  },
  {
   "cell_type": "code",
   "execution_count": 84,
   "id": "19faec88-6ec3-42e9-b5b7-da83ad7d365b",
   "metadata": {},
   "outputs": [],
   "source": [
    "df_test[\"Fraud_Proba\"] = y_proba\n",
    "df_test[\"Fraud_Predict\"] = y_pred"
   ]
  },
  {
   "cell_type": "code",
   "execution_count": 85,
   "id": "1ec23866-c0ff-4c76-8342-4c4bb2ef437f",
   "metadata": {},
   "outputs": [],
   "source": [
    "result = df_test[[\"Fraud_Proba\", \"Fraud_Predict\"]]\n",
    "# Store result in a CSV file \n",
    "result.to_csv(r\"./PredictFraud_Result.csv\")"
   ]
  },
  {
   "cell_type": "code",
   "execution_count": 86,
   "id": "06caebf5-d953-466c-b7c0-41d98403ff97",
   "metadata": {},
   "outputs": [
    {
     "data": {
      "text/html": [
       "<div>\n",
       "<style scoped>\n",
       "    .dataframe tbody tr th:only-of-type {\n",
       "        vertical-align: middle;\n",
       "    }\n",
       "\n",
       "    .dataframe tbody tr th {\n",
       "        vertical-align: top;\n",
       "    }\n",
       "\n",
       "    .dataframe thead th {\n",
       "        text-align: right;\n",
       "    }\n",
       "</style>\n",
       "<table border=\"1\" class=\"dataframe\">\n",
       "  <thead>\n",
       "    <tr style=\"text-align: right;\">\n",
       "      <th></th>\n",
       "      <th>Fraud_Proba</th>\n",
       "      <th>Fraud_Predict</th>\n",
       "    </tr>\n",
       "  </thead>\n",
       "  <tbody>\n",
       "    <tr>\n",
       "      <th>0</th>\n",
       "      <td>0.00</td>\n",
       "      <td>0</td>\n",
       "    </tr>\n",
       "    <tr>\n",
       "      <th>1</th>\n",
       "      <td>0.00</td>\n",
       "      <td>0</td>\n",
       "    </tr>\n",
       "    <tr>\n",
       "      <th>2</th>\n",
       "      <td>0.00</td>\n",
       "      <td>0</td>\n",
       "    </tr>\n",
       "    <tr>\n",
       "      <th>3</th>\n",
       "      <td>0.00</td>\n",
       "      <td>0</td>\n",
       "    </tr>\n",
       "    <tr>\n",
       "      <th>4</th>\n",
       "      <td>0.00</td>\n",
       "      <td>0</td>\n",
       "    </tr>\n",
       "    <tr>\n",
       "      <th>...</th>\n",
       "      <td>...</td>\n",
       "      <td>...</td>\n",
       "    </tr>\n",
       "    <tr>\n",
       "      <th>555714</th>\n",
       "      <td>0.00</td>\n",
       "      <td>0</td>\n",
       "    </tr>\n",
       "    <tr>\n",
       "      <th>555715</th>\n",
       "      <td>0.02</td>\n",
       "      <td>0</td>\n",
       "    </tr>\n",
       "    <tr>\n",
       "      <th>555716</th>\n",
       "      <td>0.04</td>\n",
       "      <td>0</td>\n",
       "    </tr>\n",
       "    <tr>\n",
       "      <th>555717</th>\n",
       "      <td>0.06</td>\n",
       "      <td>0</td>\n",
       "    </tr>\n",
       "    <tr>\n",
       "      <th>555718</th>\n",
       "      <td>0.01</td>\n",
       "      <td>0</td>\n",
       "    </tr>\n",
       "  </tbody>\n",
       "</table>\n",
       "<p>555719 rows × 2 columns</p>\n",
       "</div>"
      ],
      "text/plain": [
       "        Fraud_Proba  Fraud_Predict\n",
       "0              0.00              0\n",
       "1              0.00              0\n",
       "2              0.00              0\n",
       "3              0.00              0\n",
       "4              0.00              0\n",
       "...             ...            ...\n",
       "555714         0.00              0\n",
       "555715         0.02              0\n",
       "555716         0.04              0\n",
       "555717         0.06              0\n",
       "555718         0.01              0\n",
       "\n",
       "[555719 rows x 2 columns]"
      ]
     },
     "execution_count": 86,
     "metadata": {},
     "output_type": "execute_result"
    }
   ],
   "source": [
    "result"
   ]
  },
  {
   "cell_type": "code",
   "execution_count": null,
   "id": "63d936f5-eb97-4f68-af21-2d8623d49bd9",
   "metadata": {},
   "outputs": [],
   "source": []
  }
 ],
 "metadata": {
  "kernelspec": {
   "display_name": "Python 3 (ipykernel)",
   "language": "python",
   "name": "python3"
  },
  "language_info": {
   "codemirror_mode": {
    "name": "ipython",
    "version": 3
   },
   "file_extension": ".py",
   "mimetype": "text/x-python",
   "name": "python",
   "nbconvert_exporter": "python",
   "pygments_lexer": "ipython3",
   "version": "3.12.0"
  }
 },
 "nbformat": 4,
 "nbformat_minor": 5
}
